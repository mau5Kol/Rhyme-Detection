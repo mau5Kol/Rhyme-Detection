{
 "cells": [
  {
   "cell_type": "code",
   "execution_count": 156,
   "metadata": {},
   "outputs": [],
   "source": [
    "import numpy as np\n",
    "import scipy as sci\n",
    "import matplotlib\n",
    "import seaborn as sns\n",
    "import matplotlib.pyplot as plt\n",
    "import json\n",
    "import pandas as pd\n",
    "import librosa\n",
    "from librosa import display\n",
    "import IPython\n",
    "import collections\n",
    "import jams\n",
    "import string\n",
    "import re\n",
    "import sklearn \n",
    "from sklearn import preprocessing"
   ]
  },
  {
   "cell_type": "code",
   "execution_count": 56,
   "metadata": {},
   "outputs": [
    {
     "ename": "NameError",
     "evalue": "name 'y' is not defined",
     "output_type": "error",
     "traceback": [
      "\u001b[0;31m---------------------------------------------------------------------------\u001b[0m",
      "\u001b[0;31mNameError\u001b[0m                                 Traceback (most recent call last)",
      "\u001b[0;32m<ipython-input-56-9a7b27559181>\u001b[0m in \u001b[0;36m<module>\u001b[0;34m\u001b[0m\n\u001b[1;32m      1\u001b[0m \u001b[0;31m# track tempo estimate\u001b[0m\u001b[0;34m\u001b[0m\u001b[0;34m\u001b[0m\u001b[0;34m\u001b[0m\u001b[0m\n\u001b[0;32m----> 2\u001b[0;31m \u001b[0mtempo\u001b[0m\u001b[0;34m,\u001b[0m \u001b[0mbeats\u001b[0m \u001b[0;34m=\u001b[0m \u001b[0mlibrosa\u001b[0m\u001b[0;34m.\u001b[0m\u001b[0mbeat\u001b[0m\u001b[0;34m.\u001b[0m\u001b[0mbeat_track\u001b[0m\u001b[0;34m(\u001b[0m\u001b[0my\u001b[0m\u001b[0;34m=\u001b[0m\u001b[0my\u001b[0m\u001b[0;34m,\u001b[0m \u001b[0msr\u001b[0m\u001b[0;34m=\u001b[0m\u001b[0msr\u001b[0m\u001b[0;34m)\u001b[0m\u001b[0;34m\u001b[0m\u001b[0;34m\u001b[0m\u001b[0m\n\u001b[0m",
      "\u001b[0;31mNameError\u001b[0m: name 'y' is not defined"
     ]
    }
   ],
   "source": [
    "# track tempo estimate\n",
    "tempo, beats = librosa.beat.beat_track(y=y, sr=sr)"
   ]
  },
  {
   "cell_type": "code",
   "execution_count": 57,
   "metadata": {},
   "outputs": [],
   "source": [
    "import itertools\n",
    "def head(dict_, n):\n",
    "    return dict(itertools.islice(dict_.items(), n))"
   ]
  },
  {
   "cell_type": "code",
   "execution_count": 58,
   "metadata": {},
   "outputs": [],
   "source": [
    "def exportJAM(sound_file, fail_dict, out_file):\n",
    "    # Construct a new JAMS object and new annotation records\n",
    "    jam = jams.JAMS()\n",
    "    \n",
    "    # Get the file metadata\n",
    "    title = sound_file.split('/')[3].split('.')[0]\n",
    "    artist = sound_file.split('/')[2].split('_')[0]\n",
    "    release = sound_file.split('/')[2].split('_')[2]\n",
    "    \n",
    "    # Load the audio file\n",
    "    y, sr = librosa.load(sound_file)\n",
    "\n",
    "    # Get the track duration\n",
    "    track_duration = librosa.get_duration(y=y, sr=sr)\n",
    "    track_duration = '%.2f' % (float(track_duration))\n",
    "    \n",
    "    jam.file_metadata.duration = float(track_duration)\n",
    "    jam.file_metadata.title = title\n",
    "    jam.file_metadata.artist = artist\n",
    "    jam.file_metadata.release = release\n",
    "    \n",
    "    fail_lyrics = jams.Annotation(namespace='lyrics', time=0) # what does time mean in this context?\n",
    "    fail_lyrics.annotation_metadata = jams.AnnotationMetadata(data_source='Collecive Rap Datasets')\n",
    "    \n",
    "    for failling in fail_dict:\n",
    "        interval = list(failling.keys())[0].split('-')\n",
    "        start_time = float(interval[0])\n",
    "        duration = float(interval[1]) - float(interval[0])\n",
    "        duration = float('%.2f' % duration)\n",
    "        \n",
    "        fail_words = ''\n",
    "        for f_word in list(failling.values())[0]:\n",
    "            fail_words += f_word[0] + ' '\n",
    "        \n",
    "        fail_words = fail_words.rstrip()\n",
    "        fail_lyrics.append(time=start_time, duration=duration, value=fail_words)\n",
    "    \n",
    "    jam.annotations.append(fail_lyrics)\n",
    "    jam.save(out_file)"
   ]
  },
  {
   "cell_type": "code",
   "execution_count": 59,
   "metadata": {},
   "outputs": [
    {
     "ename": "NameError",
     "evalue": "name 'sound_file' is not defined",
     "output_type": "error",
     "traceback": [
      "\u001b[0;31m---------------------------------------------------------------------------\u001b[0m",
      "\u001b[0;31mNameError\u001b[0m                                 Traceback (most recent call last)",
      "\u001b[0;32m<ipython-input-59-434cfa86c475>\u001b[0m in \u001b[0;36m<module>\u001b[0;34m\u001b[0m\n\u001b[0;32m----> 1\u001b[0;31m \u001b[0mexportJAM\u001b[0m\u001b[0;34m(\u001b[0m\u001b[0msound_file\u001b[0m\u001b[0;34m,\u001b[0m \u001b[0mfail_dict\u001b[0m\u001b[0;34m,\u001b[0m \u001b[0mout_file\u001b[0m\u001b[0;34m=\u001b[0m\u001b[0;34m\"test.jams\"\u001b[0m\u001b[0;34m)\u001b[0m\u001b[0;34m\u001b[0m\u001b[0;34m\u001b[0m\u001b[0m\n\u001b[0m",
      "\u001b[0;31mNameError\u001b[0m: name 'sound_file' is not defined"
     ]
    }
   ],
   "source": [
    "exportJAM(sound_file, fail_dict, out_file=\"test.jams\")"
   ]
  },
  {
   "cell_type": "code",
   "execution_count": 60,
   "metadata": {},
   "outputs": [],
   "source": [
    "# visualization with fail nums\n",
    "# keys = []\n",
    "# nums = []\n",
    "# fail_num_lst = fail_nums[:]\n",
    "# for f in fail_num_lst:\n",
    "#     key = f[0]\n",
    "#     num = f[1]\n",
    "#     keys.append(key)\n",
    "#     nums.append(num)"
   ]
  },
  {
   "cell_type": "code",
   "execution_count": 61,
   "metadata": {},
   "outputs": [],
   "source": [
    "# x = np.arange(len(nums))\n",
    "# plt.figure(figsize=(25,15))\n",
    "# plt.bar(x, height=nums)\n",
    "# plt.xlabel('Words failed to be aligned', fontsize=25)\n",
    "# locs, labels = plt.xticks(x, keys, rotation=90, fontsize= 20)"
   ]
  },
  {
   "cell_type": "code",
   "execution_count": 62,
   "metadata": {},
   "outputs": [],
   "source": [
    "# Record the numbers of failling phonemes, try to visualize them (together with the <unk>)\n",
    "\n",
    "# fail_phoneme_num = {}\n",
    "# for k in keys:\n",
    "#     if k in phoneme_dict:\n",
    "#         for pho in phoneme_dict[k]:\n",
    "#             if pho in fail_phoneme_num:\n",
    "#                 fail_phoneme_num[pho] += 1\n",
    "#             else:\n",
    "#                 fail_phoneme_num[pho] = 1\n",
    "#     else:\n",
    "#         unknown = '<unk>'\n",
    "#         if unknown in fail_phoneme_num:\n",
    "#                 fail_phoneme_num[unknown] += 1\n",
    "#         else:\n",
    "#             fail_phoneme_num[unknown] = 1"
   ]
  },
  {
   "cell_type": "code",
   "execution_count": 63,
   "metadata": {},
   "outputs": [],
   "source": [
    "# fail_phonemes_sorted = sorted(fail_phoneme_num.items(), key=lambda kv: kv[1], reverse=True)"
   ]
  },
  {
   "cell_type": "code",
   "execution_count": 64,
   "metadata": {},
   "outputs": [],
   "source": [
    "# fail_phonemes = [v[0] for v in fail_phonemes_sorted]\n",
    "# fail_phonemes_count = [v[1] for v in fail_phonemes_sorted]"
   ]
  },
  {
   "cell_type": "code",
   "execution_count": 65,
   "metadata": {},
   "outputs": [],
   "source": [
    "# plot the failed phonemes\n",
    "# x = np.arange(len(fail_phonemes))\n",
    "# plt.figure(figsize=(25,15))\n",
    "# plt.bar(x, height=fail_phonemes_count)\n",
    "# plt.xlabel('Phonemes failed to be aligned', fontsize=25)\n",
    "# locs, labels = plt.xticks(x, fail_phonemes, rotation=90, fontsize= 20)"
   ]
  },
  {
   "cell_type": "code",
   "execution_count": 66,
   "metadata": {},
   "outputs": [],
   "source": [
    "# 模块化\n",
    "# Goal: to see how well the alginment tool works"
   ]
  },
  {
   "cell_type": "code",
   "execution_count": 67,
   "metadata": {},
   "outputs": [],
   "source": [
    "import os\n",
    "from os import walk"
   ]
  },
  {
   "cell_type": "code",
   "execution_count": 177,
   "metadata": {},
   "outputs": [],
   "source": [
    "# helper function for reading phoneme dictionaries\n",
    "def phoneme_dict_reader(phoneme_dict_file):\n",
    "    with open(phoneme_dict_file, 'r') as reader:\n",
    "        lines = reader.readlines()\n",
    "    \n",
    "    phoneme_dict = dict()\n",
    "    # extract each individual phoneme\n",
    "    for line in lines:\n",
    "        line = line.split()\n",
    "        phoneme_dict[line[0].lower()] = line[1:]\n",
    "        \n",
    "    return phoneme_dict\n",
    "\n",
    "# test\n",
    "res = phoneme_dict_reader('cmudict.txt')\n",
    "\n",
    "\n",
    "# construct the phoneme set \n",
    "phone_set = set()\n",
    "for phonemes in res.values():\n",
    "    for phone in phonemes:\n",
    "        phone_set.add(phone.upper())"
   ]
  },
  {
   "cell_type": "code",
   "execution_count": 178,
   "metadata": {},
   "outputs": [],
   "source": [
    "# 1. 构造compute_fail_num函数 (focus on word level)\n",
    "def compute_fail_nums(path, errorRate_over_tracks):\n",
    "    \n",
    "    # get the track_name\n",
    "    # find '/'\n",
    "    start_idx = path.find('/', 8)\n",
    "    track_name = path[start_idx + 1:-4] # corresponding to specific path format\n",
    "    \n",
    "    # read the aligned file\n",
    "    with open(path, 'r') as reader:\n",
    "    #     lines = reader.readlines()\n",
    "        aligned_lines = json.load(reader)\n",
    "        \n",
    "    # compute\n",
    "    # trascript\n",
    "    transcript = aligned_lines['transcript']\n",
    "    words = aligned_lines['words']\n",
    "    \n",
    "    case = 'case'\n",
    "    fails = [words[i] for i in range(len(words)) if words[i][case] == 'not-found-in-audio']\n",
    "    \n",
    "    # 这里的话就是一个初筛\n",
    "    fail_ratio = len(fails) / len(words)\n",
    "    errorRate_over_tracks[track_name] = '{:.2%}'.format(fail_ratio)"
   ]
  },
  {
   "cell_type": "code",
   "execution_count": 179,
   "metadata": {},
   "outputs": [],
   "source": [
    "def compute_aggregate(path, errorRate_over_tracks):\n",
    "    # test on 5 algined files\n",
    "    folder_prefix = path\n",
    "    \n",
    "    # get all the folders\n",
    "    dirs = [d for d in os.listdir(folder_prefix) if os.path.isdir(folder_prefix + d) and d != '.ipynb_checkpoints']\n",
    "    \n",
    "    album_paths = []\n",
    "    for album in dirs:\n",
    "        album_paths.append(folder_prefix + album)\n",
    "        \n",
    "    for album_path in album_paths:\n",
    "        aligned_files = [album_path + '/' + f for f in os.listdir(album_path) if os.path.isfile(album_path + '/' + f) and f.startswith('.DS') == False]\n",
    "        for aligned_file in aligned_files:\n",
    "            compute_fail_nums(aligned_file, errorRate_over_tracks)\n",
    "\n",
    "    # sort the error rate based on error rate\n",
    "    errorRate_over_tracks_sorted = sorted(errorRate_over_tracks.items(), key=lambda kv: float(kv[1].strip('%'))/100)\n",
    "    \n",
    "    # according to the threshold, select some workable tracks\n",
    "    filtered_tracks = list(filter(select_tracks, errorRate_over_tracks_sorted))\n",
    "    \n",
    "    return filtered_tracks"
   ]
  },
  {
   "cell_type": "code",
   "execution_count": 180,
   "metadata": {},
   "outputs": [],
   "source": [
    "def select_tracks(track):\n",
    "    if float(track[1].strip('%')) / 100 < 0.18:  # 0.18 as threshold\n",
    "        return True\n",
    "    else:\n",
    "        return False"
   ]
  },
  {
   "cell_type": "code",
   "execution_count": 181,
   "metadata": {},
   "outputs": [],
   "source": [
    "# collection info of error rate for each tracks\n",
    "errorRate_over_tracks = {}"
   ]
  },
  {
   "cell_type": "code",
   "execution_count": 182,
   "metadata": {},
   "outputs": [
    {
     "data": {
      "text/plain": [
       "[('Criminal/sponsor_aligned', '1.51%'), ('Criminal/9mm_aligned', '6.82%')]"
      ]
     },
     "execution_count": 182,
     "metadata": {},
     "output_type": "execute_result"
    }
   ],
   "source": [
    "compute_aggregate('data/aligned/', errorRate_over_tracks)"
   ]
  },
  {
   "cell_type": "code",
   "execution_count": 470,
   "metadata": {},
   "outputs": [],
   "source": [
    "def compute_phone_timestamp(TYPE, aligned_phones, start_time, durations, phonemes):\n",
    "    '''\n",
    "        Returns a list the phonemes while keeping track of the start time of each phoneme\n",
    "    '''\n",
    "    \n",
    "    if TYPE == 'full':\n",
    "    \n",
    "        n = min(len(durations), len(phonemes))\n",
    "\n",
    "        s = str(round(start_time, 2))\n",
    "        aligned_phones[s] = []\n",
    "        aligned_phones[s].append('START')\n",
    "        aligned_phones[s].append(phonemes[0])\n",
    "\n",
    "\n",
    "        for i in range(n - 1):\n",
    "            # take care of the round off error\n",
    "            next_s = str(round(start_time + durations[i], 2))\n",
    "            aligned_phones[next_s] = list()\n",
    "            aligned_phones[next_s].append(phonemes[i + 1])\n",
    "            start_time += durations[i]\n",
    "\n",
    "        e = str(round(start_time + durations[-1], 2))\n",
    "        aligned_phones[e] = list()\n",
    "        aligned_phones[e].append('END')\n",
    "        \n",
    "    elif TYPE == 'half':\n",
    "        \n",
    "        time_interval = round(durations[0] - start_time, 2)\n",
    "        \n",
    "        n = len(phonemes)\n",
    "\n",
    "        step = time_interval / n\n",
    "        \n",
    "        if time_interval < 0.02 or phonemes == ['UNK']:\n",
    "            s = str(round(start_time, 2))\n",
    "            aligned_phones[s] = []\n",
    "            aligned_phones[s].append('UNK')\n",
    "        else:  \n",
    "            s = str(round(start_time, 2))\n",
    "            aligned_phones[s] = []\n",
    "            aligned_phones[s].append('START')\n",
    "            aligned_phones[s].append(phonemes[0])\n",
    "\n",
    "            for i in range(1, n):\n",
    "                # take care of the round off error\n",
    "                next_s = str(round(start_time + step, 2))\n",
    "                aligned_phones[next_s] = list()\n",
    "                aligned_phones[next_s].append(phonemes[i])\n",
    "                start_time += step\n",
    "            \n",
    "            e = str(round(start_time + step, 2))\n",
    "            aligned_phones[e] = list()\n",
    "            aligned_phones[e].append('END')"
   ]
  },
  {
   "cell_type": "code",
   "execution_count": 471,
   "metadata": {},
   "outputs": [
    {
     "data": {
      "text/plain": [
       "{'168.46': ['UNK']}"
      ]
     },
     "execution_count": 471,
     "metadata": {},
     "output_type": "execute_result"
    }
   ],
   "source": [
    "# test\n",
    "phoneme_dict = phoneme_dict_reader('cmudict.txt')\n",
    "aligned_phones = dict()\n",
    "start_time = 168.46\n",
    "durations = [168.47]\n",
    "phonemes = phoneme_dict['bmw']\n",
    "compute_phone_timestamp('half', aligned_phones, start_time, durations, phonemes)\n",
    "aligned_phones"
   ]
  },
  {
   "cell_type": "code",
   "execution_count": 472,
   "metadata": {},
   "outputs": [],
   "source": [
    "def get_aligned_track(path, aligned_track_phones, aligned_track_words, misalligned_track_words):\n",
    "    '''\n",
    "        Get the aligned track information together with misalligned information\n",
    "    '''\n",
    "    # find '/'\n",
    "    start_idx = path.find('/', 8)\n",
    "    track_name = path[start_idx + 1:-4] # corresponding to specific path format\n",
    "    \n",
    "    # read the aligned file\n",
    "    with open(path, 'r') as reader:\n",
    "    #     lines = reader.readlines()\n",
    "        aligned_lines = json.load(reader)\n",
    "        \n",
    "    # compute\n",
    "    # trascript\n",
    "    transcript = aligned_lines['transcript']\n",
    "    words = aligned_lines['words']\n",
    "    case = 'case'\n",
    "    \n",
    "    aligned_track_words[track_name] = dict()\n",
    "    misalligned_track_words[track_name] = dict()\n",
    "    aligned_track_phones[track_name] = dict()\n",
    "\n",
    "    phoneme_dict = phoneme_dict_reader('cmudict.txt')\n",
    "    \n",
    "    # compute alignment info and mis-aligned info\n",
    "    start_word = 'start'\n",
    "    fail_interval = ''\n",
    "    fail_words = []\n",
    "    flag = True\n",
    "    for i in range(len(words)):\n",
    "        word = words[i]\n",
    "        case = word['case']\n",
    "        if case == 'success':\n",
    "            # need to compute the misalignment first\n",
    "            if not flag:\n",
    "                fail_interval += '%.2f' % (word['start'])\n",
    "                flag = True\n",
    "                misalligned_track_words[track_name][fail_interval] = fail_words\n",
    "                aligned_track_words[track_name][fail_interval] = fail_words\n",
    "                found = fail_interval.find('-')\n",
    "                fail_start = fail_interval[:found]\n",
    "                # for words not get aligned, we label it as unknown\n",
    "                aligned_track_phones[track_name][fail_start] = ['UNK']\n",
    "                fail_interval = ''\n",
    "                fail_words = []\n",
    "            \n",
    "            # for computing successfully aligned words\n",
    "            success_start_time = word['start']\n",
    "            success_start = '%.2f' % word['start']\n",
    "            success_end_time = word['end']\n",
    "#             success_time_interval = '%.2f' % (success_start) + '-' + '%.2f' % (success_end)\n",
    "            aligned_track_words[track_name][success_start] = []\n",
    "\n",
    "            aligned_word = word['alignedWord']\n",
    "            # if the aligned word is recorded, then we need to keep track of the start time of each phoneme, \n",
    "            # otherwise we just do the uniform interpolation\n",
    "            if aligned_word == '<unk>':\n",
    "                w = word['word']\n",
    "                if w.lower() in phoneme_dict:\n",
    "                    phonemes = phoneme_dict[w.lower()]\n",
    "                else:\n",
    "                    phonemes = ['UNK']\n",
    "                aligned_track_words[track_name][success_start].append((w, phonemes))\n",
    "                compute_phone_timestamp('half', aligned_track_phones[track_name], success_start_time, [success_end_time], phonemes)\n",
    "                \n",
    "            else:\n",
    "                phones = word['phones']\n",
    "                durations = [p['duration'] for p in phones]\n",
    "                phonemes = phoneme_dict[aligned_word.lower()]\n",
    "                compute_phone_timestamp('full', aligned_track_phones[track_name], success_start_time, durations, phonemes)\n",
    "                aligned_track_words[track_name][success_start].append((aligned_word, phonemes))\n",
    "        \n",
    "        elif case == 'not-found-in-audio':\n",
    "            if flag and not i: # if the first word is not successfully aligned, then the start time will be 'start'\n",
    "                fail_interval += 'start-'\n",
    "            elif flag and i:\n",
    "                fail_interval += '%.2f' % (words[i - 1]['end']) + '-'\n",
    "#                 fail_start += '%.2f' % (words[i - 1]['end'])\n",
    "            flag = False\n",
    "            fail_word = word['word']\n",
    "            if fail_word.lower() in phoneme_dict:\n",
    "                fw, fail_phonemes = fail_word, phoneme_dict[fail_word.lower()]\n",
    "            else:\n",
    "                fw, fail_phonemes = fail_word, ['UNK']\n",
    "            fail_words += [(fw, fail_phonemes)]\n",
    "    \n",
    "    \n",
    "#     # tail case if the last several alignments are incorrect and never met 'succuess'\n",
    "    if fail_words and case != 'success':\n",
    "#         fail_interval += 'end'\n",
    "        flag = True\n",
    "        misalligned_track_words[track_name][fail_start] = fail_words\n",
    "        fail_interval = ''\n",
    "        fail_words = []\n",
    "        \n",
    "#     # miss alignment statistics\n",
    "#     for vals in fail_dict.values():\n",
    "#         for val in vals:\n",
    "#             word = val.lower()\n",
    "#             fail_nums[word] = fail_nums.get(word, 0) + 1\n",
    "    "
   ]
  },
  {
   "cell_type": "code",
   "execution_count": 473,
   "metadata": {},
   "outputs": [],
   "source": [
    "# test for get phoeneme sequence\n",
    "path = 'data/aligned/Criminal/sponsor_aligned.txt'\n",
    "aligned_track_info = {} # including phonemes that are corrected\n",
    "misaligned_track_info = {}\n",
    "aligned_track_phones = {}\n",
    "get_aligned_track(path, aligned_track_phones, aligned_track_info, misaligned_track_info)"
   ]
  },
  {
   "cell_type": "code",
   "execution_count": 474,
   "metadata": {},
   "outputs": [],
   "source": [
    "# aligned_track_info\n",
    "# aligned_track_phones\n",
    "# phone_set"
   ]
  },
  {
   "cell_type": "code",
   "execution_count": 475,
   "metadata": {},
   "outputs": [],
   "source": [
    "def get_syllable_sequences(aligned_track_phonemes):\n",
    "    '''\n",
    "    Returns a sequence of syllables for each aligned word\n",
    "    '''\n",
    "    track_aligned_syllables = dict()\n",
    "    for track_name, aligned_sequence in aligned_track_phonemes.items():\n",
    "        track_aligned_syllables[track_name] = dict()\n",
    "        for time_stamp, word_sequences in aligned_sequence.items():\n",
    "            syllable_sequences = []\n",
    "            track_aligned_syllables[track_name][time_stamp] = []\n",
    "            for word_phone_pair in word_sequences:\n",
    "                last_syllable = get_last_syllable(word_phone_pair)\n",
    "                syllable_sequences.append(last_syllable)\n",
    "                track_aligned_syllables[track_name][time_stamp].append((word_phone_pair[0], last_syllable))\n",
    "        \n",
    "    return track_aligned_syllables"
   ]
  },
  {
   "cell_type": "code",
   "execution_count": 476,
   "metadata": {},
   "outputs": [],
   "source": [
    "def get_last_syllable(word_phone_pair):\n",
    "    '''\n",
    "        Returns the last syllable of a word\n",
    "    ''' \n",
    "    import re\n",
    "    \n",
    "    last_syllable = ''\n",
    "    phonemes = word_phone_pair[1]\n",
    "    for phone in phonemes:\n",
    "            if re.sub(r'\\d', '', phone) in VOWELS:\n",
    "                last_syllable = ''\n",
    "            last_syllable += phone\n",
    "    return last_syllable"
   ]
  },
  {
   "cell_type": "code",
   "execution_count": 477,
   "metadata": {},
   "outputs": [],
   "source": [
    "def get_phone_type(phone_set):\n",
    "    '''\n",
    "    Returns the phone type for a given track\n",
    "    '''\n",
    "    VOWELS = ['AA', 'AE', 'AH', 'AO', 'AW', 'AX', 'AY', 'EH', 'ER', 'EY', 'OW', 'OY', 'IH', 'IY', 'IX', 'UW', 'UX', 'UH']\n",
    "    phone_type = collections.defaultdict(set)\n",
    "    for phone in phone_set:\n",
    "        phone = phone.upper()\n",
    "        # edge case\n",
    "        if phone == 'AH)':\n",
    "            phone = 'AH'\n",
    "        # ignore the stress label    \n",
    "        phone = re.sub('\\d|\\W', '', phone)\n",
    "        if phone in VOWELS:\n",
    "            phone_type['VOWEL'].add(phone)\n",
    "        else:\n",
    "            phone_type['CONSONANT'].add(phone)\n",
    "\n",
    "    return phone_type\n",
    "\n",
    "# 这里可以做不同的experimentation(只考虑vowels vs 只考虑vowels/consonants, or 加不加stress label)\n",
    "phone_type = get_phone_type(phone_set)\n",
    "vowels = list(phone_type['VOWEL'])\n",
    "vowels.sort()\n",
    "consonants = list(phone_type['CONSONANT'])\n",
    "consonants.sort()\n",
    "phone_classes = vowels + consonants"
   ]
  },
  {
   "cell_type": "code",
   "execution_count": 478,
   "metadata": {},
   "outputs": [
    {
     "data": {
      "text/plain": [
       "42"
      ]
     },
     "execution_count": 478,
     "metadata": {},
     "output_type": "execute_result"
    }
   ],
   "source": [
    "len(phone_classes)"
   ]
  },
  {
   "cell_type": "code",
   "execution_count": 479,
   "metadata": {},
   "outputs": [],
   "source": [
    "def get_aligned_phone_seq(aligned_track_phones):\n",
    "    '''\n",
    "        Returns the aligned phoneme sequence for a given track together with the list of timestamps\n",
    "    '''\n",
    "    aligned_phone_seq = []\n",
    "    aligned_timestamp =[]\n",
    "    for path, time_phone_pair in aligned_track_phones.items():\n",
    "        for time_stamp, phone in time_phone_pair.items():\n",
    "            aligned_timestamp.append(time_stamp)\n",
    "            aligned_phone_seq.append(phone)\n",
    "    return aligned_timestamp, aligned_phone_seq"
   ]
  },
  {
   "cell_type": "code",
   "execution_count": 480,
   "metadata": {},
   "outputs": [],
   "source": [
    "def get_sampled_phone_seq(aligned_timestamp, aligned_phone_seq, sample_interval):\n",
    "    '''\n",
    "        Returns the sampled aligned sequence under given sample interval\n",
    "    '''\n",
    "    \n",
    "    return aligned_timestamp[::sample_interval], aligned_phone_seq[::sample_interval]"
   ]
  },
  {
   "cell_type": "code",
   "execution_count": 496,
   "metadata": {},
   "outputs": [
    {
     "data": {
      "text/plain": [
       "(363, 363)"
      ]
     },
     "execution_count": 496,
     "metadata": {},
     "output_type": "execute_result"
    }
   ],
   "source": [
    "aligned_timestamp, aligned_phone_seq = get_aligned_phone_seq(aligned_track_phones)\n",
    "sample_interval = 4\n",
    "sampled_timestamp, sampled_phone_seq = get_sampled_phone_seq(aligned_timestamp, aligned_phone_seq, sample_interval)\n",
    "len(sampled_timestamp), len(sampled_phone_seq)"
   ]
  },
  {
   "cell_type": "code",
   "execution_count": 497,
   "metadata": {},
   "outputs": [],
   "source": [
    "# sampled_phone_seq\n",
    "# phone_classes"
   ]
  },
  {
   "cell_type": "code",
   "execution_count": 498,
   "metadata": {},
   "outputs": [],
   "source": [
    "def get_phone_encoding(phone, phone_classes):\n",
    "    '''\n",
    "        Returns the phone encoding\n",
    "    '''\n",
    "    \n",
    "    if phone == 'UNK':\n",
    "        ohe_vector = np.array([np.nan for _ in range(len(phone_classes))])\n",
    "    else:\n",
    "        phone_vector = np.array(phone_classes)\n",
    "        ohe_vector = np.where(phone_vector == phone , 1, 0)\n",
    "    \n",
    "    return ohe_vector"
   ]
  },
  {
   "cell_type": "code",
   "execution_count": 499,
   "metadata": {},
   "outputs": [],
   "source": [
    "def compute_feature_matrix(phone_seq, phone_classes):\n",
    "    '''\n",
    "        Returns the feature matrix (using one-hot encoder from sklearn)\n",
    "    '''\n",
    "    \n",
    "    n = len(phone_seq)\n",
    "    size = len(phone_classes)\n",
    "    \n",
    "    \n",
    "    feature_matrix = np.zeros((size, n), dtype=np.float16)\n",
    "    \n",
    "    for i in range(n):\n",
    "        phones = phone_seq[i]\n",
    "        for phone in phones:\n",
    "            # ignore the stress label   \n",
    "            phone = re.sub('\\d|\\W', '', phone)\n",
    "            feature_vector = get_phone_encoding(phone, phone_classes)\n",
    "            feature_matrix[:, i] = feature_vector\n",
    "    \n",
    "    return feature_matrix"
   ]
  },
  {
   "cell_type": "code",
   "execution_count": 500,
   "metadata": {},
   "outputs": [],
   "source": [
    "fm = compute_feature_matrix(sampled_phone_seq, phone_classes)"
   ]
  },
  {
   "cell_type": "code",
   "execution_count": 501,
   "metadata": {},
   "outputs": [],
   "source": [
    "def compute_SM_dot(X,Y):\n",
    "    \"\"\"Computes similarty matrix from feature sequences using dot (inner) product\n",
    "    Notebook: C4/C4S2_SSM.ipynb\n",
    "    \"\"\"    \n",
    "    S = np.dot(np.transpose(Y),X) \n",
    "#     S = np.matmul(np.transpose(Y), X)\n",
    "    return S"
   ]
  },
  {
   "cell_type": "code",
   "execution_count": 502,
   "metadata": {},
   "outputs": [
    {
     "data": {
      "text/plain": [
       "(363, 363)"
      ]
     },
     "execution_count": 502,
     "metadata": {},
     "output_type": "execute_result"
    }
   ],
   "source": [
    "phoneme_SSM = compute_SM_dot(fm, fm)\n",
    "phoneme_SSM.shape"
   ]
  },
  {
   "cell_type": "code",
   "execution_count": 503,
   "metadata": {},
   "outputs": [],
   "source": [
    "def plot_feature_SSM(SSM):\n",
    "    ax = sns.heatmap(SSM, vmin=0, vmax=1, cmap='BuPu')\n",
    "#     ax.invert_yaxis()\n",
    "    sns.set(rc={'figure.figsize':(14,12)})"
   ]
  },
  {
   "cell_type": "code",
   "execution_count": 504,
   "metadata": {},
   "outputs": [
    {
     "data": {
      "image/png": "[encoded data removed]",
      "text/plain": [
       "<Figure size 1008x864 with 2 Axes>"
      ]
     },
     "metadata": {},
     "output_type": "display_data"
    }
   ],
   "source": [
    "plot_feature_SSM(phoneme_SSM)"
   ]
  },
  {
   "cell_type": "code",
   "execution_count": 505,
   "metadata": {},
   "outputs": [
    {
     "name": "stdout",
     "output_type": "stream",
     "text": [
      "[[ 1.  4. nan  3.]\n",
      " [ 2.  6. nan  3.]\n",
      " [nan nan nan nan]\n",
      " [ 2.  3. nan  6.]]\n"
     ]
    }
   ],
   "source": [
    "s = np.array([[1,4,6,3], [2,6,4,3], [5,3,6,4], [2,3,5,6]], dtype = np.float16)\n",
    "s[:,2] = np.nan\n",
    "s[2,:] = np.nan\n",
    "print(s)"
   ]
  },
  {
   "cell_type": "code",
   "execution_count": 507,
   "metadata": {},
   "outputs": [],
   "source": [
    "def get_valid_indices(SSM):\n",
    "    '''\n",
    "        Returns the indices of valid outputs from SSM and remove the nan indices\n",
    "    '''\n",
    "\n",
    "    rows, cols = np.triu_indices_from(SSM, k = 1)\n",
    "    nan_pair = np.argwhere(np.isnan(SSM))\n",
    "    set1 = set([(u ,v) for u, v in zip(rows, cols)])\n",
    "    set2 = set(list(map(tuple, nan_pair)))\n",
    "    \n",
    "    return set1 - set2"
   ]
  },
  {
   "cell_type": "code",
   "execution_count": 508,
   "metadata": {},
   "outputs": [],
   "source": [
    "def get_pair(SSM, valid_indices):\n",
    "    '''\n",
    "        Returns the indices of the rhyming pair and non-rhyming pair on phonemes\n",
    "    '''\n",
    "    \n",
    "    rhyming_pair = set()\n",
    "    non_rhyming_pair = set()\n",
    "    \n",
    "    for u, v in valid_indices:\n",
    "        if phoneme_SSM[u, v] == 1.0:\n",
    "            rhyming_pair.add((u, v))\n",
    "        else:\n",
    "            non_rhyming_pair.add((u, v))\n",
    "            \n",
    "    return rhyming_pair, non_rhyming_pair"
   ]
  },
  {
   "cell_type": "code",
   "execution_count": 511,
   "metadata": {},
   "outputs": [],
   "source": [
    "valid_indices = get_valid_indices(phoneme_SSM)\n",
    "rhyming_pair, non_rhyming_pair = get_pair(phoneme_SSM, valid_indices)"
   ]
  },
  {
   "cell_type": "code",
   "execution_count": 526,
   "metadata": {},
   "outputs": [],
   "source": [
    "# try interpolation 1D\n",
    "s1 = np.array([0 for _ in range(20)])\n",
    "s1[5] = 1\n",
    "s2 = np.array([0 for _ in range(20)])\n",
    "s2[10] = 1"
   ]
  },
  {
   "cell_type": "code",
   "execution_count": 529,
   "metadata": {},
   "outputs": [],
   "source": [
    "x = np.array([0, 9])\n",
    "y = np.array([s1, s2])"
   ]
  },
  {
   "cell_type": "code",
   "execution_count": 532,
   "metadata": {},
   "outputs": [],
   "source": [
    "y = np.transpose(y)"
   ]
  },
  {
   "cell_type": "code",
   "execution_count": 535,
   "metadata": {},
   "outputs": [],
   "source": [
    "f = sci.interpolate.interp1d(x, y, kind='nearest', axis=1)"
   ]
  },
  {
   "cell_type": "code",
   "execution_count": 542,
   "metadata": {},
   "outputs": [],
   "source": [
    "matrix = np.zeros((20, 10))\n",
    "matrix[:,0] = s1\n",
    "matrix[:,9] = s2\n",
    "for i in range(1, 9):\n",
    "    matrix[:,i] = f(i)"
   ]
  },
  {
   "cell_type": "code",
   "execution_count": 543,
   "metadata": {},
   "outputs": [
    {
     "data": {
      "text/plain": [
       "array([[0., 0., 0., 0., 0., 0., 0., 0., 0., 0.],\n",
       "       [0., 0., 0., 0., 0., 0., 0., 0., 0., 0.],\n",
       "       [0., 0., 0., 0., 0., 0., 0., 0., 0., 0.],\n",
       "       [0., 0., 0., 0., 0., 0., 0., 0., 0., 0.],\n",
       "       [0., 0., 0., 0., 0., 0., 0., 0., 0., 0.],\n",
       "       [1., 1., 1., 1., 1., 0., 0., 0., 0., 0.],\n",
       "       [0., 0., 0., 0., 0., 0., 0., 0., 0., 0.],\n",
       "       [0., 0., 0., 0., 0., 0., 0., 0., 0., 0.],\n",
       "       [0., 0., 0., 0., 0., 0., 0., 0., 0., 0.],\n",
       "       [0., 0., 0., 0., 0., 0., 0., 0., 0., 0.],\n",
       "       [0., 0., 0., 0., 0., 1., 1., 1., 1., 1.],\n",
       "       [0., 0., 0., 0., 0., 0., 0., 0., 0., 0.],\n",
       "       [0., 0., 0., 0., 0., 0., 0., 0., 0., 0.],\n",
       "       [0., 0., 0., 0., 0., 0., 0., 0., 0., 0.],\n",
       "       [0., 0., 0., 0., 0., 0., 0., 0., 0., 0.],\n",
       "       [0., 0., 0., 0., 0., 0., 0., 0., 0., 0.],\n",
       "       [0., 0., 0., 0., 0., 0., 0., 0., 0., 0.],\n",
       "       [0., 0., 0., 0., 0., 0., 0., 0., 0., 0.],\n",
       "       [0., 0., 0., 0., 0., 0., 0., 0., 0., 0.],\n",
       "       [0., 0., 0., 0., 0., 0., 0., 0., 0., 0.]])"
      ]
     },
     "execution_count": 543,
     "metadata": {},
     "output_type": "execute_result"
    }
   ],
   "source": [
    "matrix"
   ]
  },
  {
   "cell_type": "code",
   "execution_count": 493,
   "metadata": {},
   "outputs": [],
   "source": [
    "# compute audio features"
   ]
  },
  {
   "cell_type": "code",
   "execution_count": 494,
   "metadata": {},
   "outputs": [],
   "source": [
    "def compute_mfcc(path, sr):\n",
    "    '''\n",
    "        Returns the mfcc feature for the given audio\n",
    "    '''\n",
    "    # read audio signal\n",
    "    y, sr = librosa.load(path, sr=sr)\n",
    "\n",
    "    # compute the mfcc\n",
    "    mfcc = librosa.feature.mfcc(y, sr=sr, n_mfcc=14, n_fft=2048, hop_length=1024)\n",
    "    \n",
    "    return mfcc"
   ]
  },
  {
   "cell_type": "code",
   "execution_count": 495,
   "metadata": {},
   "outputs": [],
   "source": [
    "audio_path = 'data/vocals/Criminal/sponsor/vocals.wav'\n",
    "mfcc_feature = compute_mfcc(audio_path, 44100)"
   ]
  },
  {
   "cell_type": "code",
   "execution_count": 343,
   "metadata": {},
   "outputs": [
    {
     "data": {
      "text/plain": [
       "(14, 10157)"
      ]
     },
     "execution_count": 343,
     "metadata": {},
     "output_type": "execute_result"
    }
   ],
   "source": [
    "mfcc_feature.shape"
   ]
  },
  {
   "cell_type": "code",
   "execution_count": 87,
   "metadata": {},
   "outputs": [],
   "source": [
    "def plot_mfcc_SSM(mfcc):\n",
    "    '''\n",
    "        Plot the mfcc SSM\n",
    "    '''\n",
    "    mfcc_SSM = compute_SM_dot(mfcc, mfcc)\n",
    "    print(mfcc_SSM.shape)\n",
    "    sub_mfcc_ssm = mfcc_SSM[50:100,50:100]\n",
    "    print(sub_mfcc_ssm)\n",
    "    ax = sns.heatmap(sub_mfcc_ssm, vmin=-500000, vmax=500000, cmap='PiYG')\n",
    "    ax.invert_yaxis()\n",
    "    sns.set(rc={'figure.figsize':(14,12)})"
   ]
  },
  {
   "cell_type": "code",
   "execution_count": 88,
   "metadata": {},
   "outputs": [
    {
     "name": "stdout",
     "output_type": "stream",
     "text": [
      "(10157, 10157)\n",
      "[[250423.95103132 251861.2698358  255015.81904007 ... 250469.69868067\n",
      "  253995.50341639 250099.84484063]\n",
      " [251861.2698358  253498.97596158 256688.13956847 ... 252003.10737136\n",
      "  255546.01733255 251631.4745221 ]\n",
      " [255015.81904007 256688.13956847 260130.60852729 ... 255156.52412534\n",
      "  258947.58084755 254732.61169322]\n",
      " ...\n",
      " [250469.69868067 252003.10737136 255156.52412534 ... 250607.48393054\n",
      "  254104.27366716 250223.98527432]\n",
      " [253995.50341639 255546.01733255 258947.58084755 ... 254104.27366716\n",
      "  257866.19897467 253688.19622665]\n",
      " [250099.84484063 251631.4745221  254732.61169322 ... 250223.98527432\n",
      "  253688.19622665 249928.50188076]]\n"
     ]
    },
    {
     "data": {
      "image/png": "[encoded data removed]",
      "text/plain": [
       "<Figure size 1008x864 with 2 Axes>"
      ]
     },
     "metadata": {},
     "output_type": "display_data"
    }
   ],
   "source": [
    "plot_mfcc_SSM(mfcc_feature)"
   ]
  },
  {
   "cell_type": "code",
   "execution_count": 369,
   "metadata": {},
   "outputs": [],
   "source": [
    "def get_right_half(SSM):\n",
    "    '''\n",
    "        Because of the redundancy of the SSM, we get the lower half of the matrix, excluding the diagonal\n",
    "    '''\n",
    "    \n",
    "    rows, cols = np.triu_indices_from(SSM, k=1)\n",
    "    \n",
    "    coords = set()\n",
    "    \n",
    "    for u, v in zip(rows, cols):\n",
    "        coords.add((u, v))\n",
    "        \n",
    "    return coords"
   ]
  },
  {
   "cell_type": "code",
   "execution_count": 370,
   "metadata": {},
   "outputs": [],
   "source": [
    "# find the corresponding indices given certain conditions"
   ]
  },
  {
   "cell_type": "code",
   "execution_count": 371,
   "metadata": {},
   "outputs": [
    {
     "data": {
      "text/plain": [
       "(100, 100)"
      ]
     },
     "execution_count": 371,
     "metadata": {},
     "output_type": "execute_result"
    }
   ],
   "source": [
    "phoneme_SSM.shape"
   ]
  },
  {
   "cell_type": "code",
   "execution_count": 379,
   "metadata": {},
   "outputs": [],
   "source": [
    "def get_time_frame(SSM, timestamps, threshold):\n",
    "    '''\n",
    "        Returns the time frame that might have rhyming\n",
    "    '''\n",
    "    \n",
    "    # \n",
    "    \n",
    "    right_half_coords = get_right_half(SSM)\n",
    "    \n",
    "    rows, cols = np.where(SSM >= threshold)\n",
    "    possible_coords = set()\n",
    "    \n",
    "    for u, v in zip(rows, cols):\n",
    "        possible_coords.add((u, v))\n",
    "    \n",
    "    \n",
    "    coords = right_half_coords & possible_coords\n",
    "    \n",
    "    timeframes = []\n",
    "    \n",
    "    for p in coords:\n",
    "        row_index = p[0]\n",
    "        col_index = p[1]\n",
    "        time1 = timestamps[row_index]\n",
    "        time2 = timestamps[col_index]\n",
    "        \n",
    "        if 0.5 < float(time2) - float(time1) < 15:\n",
    "            timeframes.append([(time1, time2), (row_index, col_index)])\n",
    "        \n",
    "    return timeframes"
   ]
  },
  {
   "cell_type": "code",
   "execution_count": 380,
   "metadata": {},
   "outputs": [],
   "source": [
    "rhyming_frames = get_time_frame(phoneme_SSM, sampled_timestamp, 2)"
   ]
  },
  {
   "cell_type": "code",
   "execution_count": 381,
   "metadata": {},
   "outputs": [
    {
     "data": {
      "text/plain": [
       "[[('86.31', '94.39'), (37, 43)],\n",
       " [('159.92', '167.70'), (74, 81)],\n",
       " [('167.70', '171.50'), (81, 84)],\n",
       " [('79.78', '85.03'), (31, 36)],\n",
       " [('159.92', '168.96'), (74, 82)],\n",
       " [('168.96', '171.50'), (82, 84)],\n",
       " [('90.10', '97.85'), (40, 47)],\n",
       " [('103.22', '103.84'), (51, 52)],\n",
       " [('167.70', '168.96'), (81, 82)],\n",
       " [('159.92', '171.50'), (74, 84)],\n",
       " [('176.08', '184.61'), (89, 97)]]"
      ]
     },
     "execution_count": 381,
     "metadata": {},
     "output_type": "execute_result"
    }
   ],
   "source": [
    "rhyming_frames"
   ]
  },
  {
   "cell_type": "code",
   "execution_count": 384,
   "metadata": {},
   "outputs": [],
   "source": [
    "# interpolate\n",
    "# 拿[('167.70', '171.50'), (81, 84)] experiment一下\n",
    "# 找到fm对应的feature vector, 找到时间点对应的mfcc sub matrix\n",
    "# match fm与mfcc_feature的resolution (看要interpolate多少列)\n",
    "# match好后，再开始重新算ssm, 来求forbenius cofficients\n",
    "\n",
    "frame = rhyming_frames[2]"
   ]
  },
  {
   "cell_type": "code",
   "execution_count": 394,
   "metadata": {},
   "outputs": [],
   "source": [
    "start_time, end_time = frame[0]\n",
    "start_time = float(start_time)\n",
    "end_time = float(end_time)\n",
    "phone_frame_start, phone_frame_end = frame[1]"
   ]
  }
 ],
 "metadata": {
  "kernelspec": {
   "display_name": "Python 3",
   "language": "python",
   "name": "python3"
  },
  "language_info": {
   "codemirror_mode": {
    "name": "ipython",
    "version": 3
   },
   "file_extension": ".py",
   "mimetype": "text/x-python",
   "name": "python",
   "nbconvert_exporter": "python",
   "pygments_lexer": "ipython3",
   "version": "3.7.1"
  }
 },
 "nbformat": 4,
 "nbformat_minor": 2
}
