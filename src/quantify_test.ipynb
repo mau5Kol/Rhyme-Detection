{
 "cells": [
  {
   "cell_type": "code",
   "execution_count": 83,
   "metadata": {},
   "outputs": [],
   "source": [
    "import numpy as np\n",
    "import random\n",
    "import math\n",
    "import scipy as sci\n",
    "import matplotlib\n",
    "import seaborn as sns\n",
    "import matplotlib.pyplot as plt\n",
    "import json\n",
    "import pandas as pd\n",
    "import librosa\n",
    "from librosa import display\n",
    "import IPython\n",
    "import collections\n",
    "import jams\n",
    "import string\n",
    "import re\n",
    "import sklearn \n",
    "from sklearn import preprocessing\n",
    "from sklearn import metrics\n",
    "from inspect import signature"
   ]
  },
  {
   "cell_type": "code",
   "execution_count": 4,
   "metadata": {},
   "outputs": [
    {
     "ename": "NameError",
     "evalue": "name 'y' is not defined",
     "output_type": "error",
     "traceback": [
      "\u001b[0;31m---------------------------------------------------------------------------\u001b[0m",
      "\u001b[0;31mNameError\u001b[0m                                 Traceback (most recent call last)",
      "\u001b[0;32m<ipython-input-4-9a7b27559181>\u001b[0m in \u001b[0;36m<module>\u001b[0;34m\u001b[0m\n\u001b[1;32m      1\u001b[0m \u001b[0;31m# track tempo estimate\u001b[0m\u001b[0;34m\u001b[0m\u001b[0;34m\u001b[0m\u001b[0;34m\u001b[0m\u001b[0m\n\u001b[0;32m----> 2\u001b[0;31m \u001b[0mtempo\u001b[0m\u001b[0;34m,\u001b[0m \u001b[0mbeats\u001b[0m \u001b[0;34m=\u001b[0m \u001b[0mlibrosa\u001b[0m\u001b[0;34m.\u001b[0m\u001b[0mbeat\u001b[0m\u001b[0;34m.\u001b[0m\u001b[0mbeat_track\u001b[0m\u001b[0;34m(\u001b[0m\u001b[0my\u001b[0m\u001b[0;34m=\u001b[0m\u001b[0my\u001b[0m\u001b[0;34m,\u001b[0m \u001b[0msr\u001b[0m\u001b[0;34m=\u001b[0m\u001b[0msr\u001b[0m\u001b[0;34m)\u001b[0m\u001b[0;34m\u001b[0m\u001b[0;34m\u001b[0m\u001b[0m\n\u001b[0m",
      "\u001b[0;31mNameError\u001b[0m: name 'y' is not defined"
     ]
    }
   ],
   "source": [
    "# track tempo estimate\n",
    "tempo, beats = librosa.beat.beat_track(y=y, sr=sr)"
   ]
  },
  {
   "cell_type": "code",
   "execution_count": 5,
   "metadata": {},
   "outputs": [],
   "source": [
    "import itertools\n",
    "def head(dict_, n):\n",
    "    return dict(itertools.islice(dict_.items(), n))"
   ]
  },
  {
   "cell_type": "code",
   "execution_count": 6,
   "metadata": {},
   "outputs": [],
   "source": [
    "def exportJAM(sound_file, fail_dict, out_file):\n",
    "    # Construct a new JAMS object and new annotation records\n",
    "    jam = jams.JAMS()\n",
    "    \n",
    "    # Get the file metadata\n",
    "    title = sound_file.split('/')[3].split('.')[0]\n",
    "    artist = sound_file.split('/')[2].split('_')[0]\n",
    "    release = sound_file.split('/')[2].split('_')[2]\n",
    "    \n",
    "    # Load the audio file\n",
    "    y, sr = librosa.load(sound_file)\n",
    "\n",
    "    # Get the track duration\n",
    "    track_duration = librosa.get_duration(y=y, sr=sr)\n",
    "    track_duration = '%.2f' % (float(track_duration))\n",
    "    \n",
    "    jam.file_metadata.duration = float(track_duration)\n",
    "    jam.file_metadata.title = title\n",
    "    jam.file_metadata.artist = artist\n",
    "    jam.file_metadata.release = release\n",
    "    \n",
    "    fail_lyrics = jams.Annotation(namespace='lyrics', time=0) # what does time mean in this context?\n",
    "    fail_lyrics.annotation_metadata = jams.AnnotationMetadata(data_source='Collecive Rap Datasets')\n",
    "    \n",
    "    for failling in fail_dict:\n",
    "        interval = list(failling.keys())[0].split('-')\n",
    "        start_time = float(interval[0])\n",
    "        duration = float(interval[1]) - float(interval[0])\n",
    "        duration = float('%.2f' % duration)\n",
    "        \n",
    "        fail_words = ''\n",
    "        for f_word in list(failling.values())[0]:\n",
    "            fail_words += f_word[0] + ' '\n",
    "        \n",
    "        fail_words = fail_words.rstrip()\n",
    "        fail_lyrics.append(time=start_time, duration=duration, value=fail_words)\n",
    "    \n",
    "    jam.annotations.append(fail_lyrics)\n",
    "    jam.save(out_file)"
   ]
  },
  {
   "cell_type": "code",
   "execution_count": 8,
   "metadata": {},
   "outputs": [
    {
     "ename": "NameError",
     "evalue": "name 'sound_file' is not defined",
     "output_type": "error",
     "traceback": [
      "\u001b[0;31m---------------------------------------------------------------------------\u001b[0m",
      "\u001b[0;31mNameError\u001b[0m                                 Traceback (most recent call last)",
      "\u001b[0;32m<ipython-input-8-434cfa86c475>\u001b[0m in \u001b[0;36m<module>\u001b[0;34m\u001b[0m\n\u001b[0;32m----> 1\u001b[0;31m \u001b[0mexportJAM\u001b[0m\u001b[0;34m(\u001b[0m\u001b[0msound_file\u001b[0m\u001b[0;34m,\u001b[0m \u001b[0mfail_dict\u001b[0m\u001b[0;34m,\u001b[0m \u001b[0mout_file\u001b[0m\u001b[0;34m=\u001b[0m\u001b[0;34m\"test.jams\"\u001b[0m\u001b[0;34m)\u001b[0m\u001b[0;34m\u001b[0m\u001b[0;34m\u001b[0m\u001b[0m\n\u001b[0m",
      "\u001b[0;31mNameError\u001b[0m: name 'sound_file' is not defined"
     ]
    }
   ],
   "source": [
    "exportJAM(sound_file, fail_dict, out_file=\"test.jams\")"
   ]
  },
  {
   "cell_type": "code",
   "execution_count": 9,
   "metadata": {},
   "outputs": [],
   "source": [
    "# visualization with fail nums\n",
    "# keys = []\n",
    "# nums = []\n",
    "# fail_num_lst = fail_nums[:]\n",
    "# for f in fail_num_lst:\n",
    "#     key = f[0]\n",
    "#     num = f[1]\n",
    "#     keys.append(key)\n",
    "#     nums.append(num)"
   ]
  },
  {
   "cell_type": "code",
   "execution_count": 10,
   "metadata": {},
   "outputs": [],
   "source": [
    "# x = np.arange(len(nums))\n",
    "# plt.figure(figsize=(25,15))\n",
    "# plt.bar(x, height=nums)\n",
    "# plt.xlabel('Words failed to be aligned', fontsize=25)\n",
    "# locs, labels = plt.xticks(x, keys, rotation=90, fontsize= 20)"
   ]
  },
  {
   "cell_type": "code",
   "execution_count": 11,
   "metadata": {},
   "outputs": [],
   "source": [
    "# Record the numbers of failling phonemes, try to visualize them (together with the <unk>)\n",
    "\n",
    "# fail_phoneme_num = {}\n",
    "# for k in keys:\n",
    "#     if k in phoneme_dict:\n",
    "#         for pho in phoneme_dict[k]:\n",
    "#             if pho in fail_phoneme_num:\n",
    "#                 fail_phoneme_num[pho] += 1\n",
    "#             else:\n",
    "#                 fail_phoneme_num[pho] = 1\n",
    "#     else:\n",
    "#         unknown = '<unk>'\n",
    "#         if unknown in fail_phoneme_num:\n",
    "#                 fail_phoneme_num[unknown] += 1\n",
    "#         else:\n",
    "#             fail_phoneme_num[unknown] = 1"
   ]
  },
  {
   "cell_type": "code",
   "execution_count": 12,
   "metadata": {},
   "outputs": [],
   "source": [
    "# fail_phonemes_sorted = sorted(fail_phoneme_num.items(), key=lambda kv: kv[1], reverse=True)"
   ]
  },
  {
   "cell_type": "code",
   "execution_count": 13,
   "metadata": {},
   "outputs": [],
   "source": [
    "# fail_phonemes = [v[0] for v in fail_phonemes_sorted]\n",
    "# fail_phonemes_count = [v[1] for v in fail_phonemes_sorted]"
   ]
  },
  {
   "cell_type": "code",
   "execution_count": 14,
   "metadata": {},
   "outputs": [],
   "source": [
    "# plot the failed phonemes\n",
    "# x = np.arange(len(fail_phonemes))\n",
    "# plt.figure(figsize=(25,15))\n",
    "# plt.bar(x, height=fail_phonemes_count)\n",
    "# plt.xlabel('Phonemes failed to be aligned', fontsize=25)\n",
    "# locs, labels = plt.xticks(x, fail_phonemes, rotation=90, fontsize= 20)"
   ]
  },
  {
   "cell_type": "code",
   "execution_count": 15,
   "metadata": {},
   "outputs": [],
   "source": [
    "# 模块化\n",
    "# Goal: to see how well the alginment tool works"
   ]
  },
  {
   "cell_type": "code",
   "execution_count": 16,
   "metadata": {},
   "outputs": [],
   "source": [
    "import os\n",
    "from os import walk"
   ]
  },
  {
   "cell_type": "code",
   "execution_count": 17,
   "metadata": {},
   "outputs": [],
   "source": [
    "# helper function for reading phoneme dictionaries\n",
    "def phoneme_dict_reader(phoneme_dict_file):\n",
    "    with open(phoneme_dict_file, 'r') as reader:\n",
    "        lines = reader.readlines()\n",
    "    \n",
    "    phoneme_dict = dict()\n",
    "    # extract each individual phoneme\n",
    "    for line in lines:\n",
    "        line = line.split()\n",
    "        phoneme_dict[line[0].lower()] = line[1:]\n",
    "        \n",
    "    return phoneme_dict\n",
    "\n",
    "# test\n",
    "res = phoneme_dict_reader('cmudict.txt')\n",
    "\n",
    "\n",
    "# construct the phoneme set \n",
    "phone_set = set()\n",
    "for phonemes in res.values():\n",
    "    for phone in phonemes:\n",
    "        phone_set.add(phone.upper())"
   ]
  },
  {
   "cell_type": "code",
   "execution_count": 18,
   "metadata": {},
   "outputs": [],
   "source": [
    "# 1. 构造compute_fail_num函数 (focus on word level)\n",
    "def compute_fail_nums(path, errorRate_over_tracks):\n",
    "    \n",
    "    # get the track_name\n",
    "    # find '/'\n",
    "    start_idx = path.find('/', 8)\n",
    "    track_name = path[start_idx + 1:-4] # corresponding to specific path format\n",
    "    \n",
    "    # read the aligned file\n",
    "    with open(path, 'r') as reader:\n",
    "    #     lines = reader.readlines()\n",
    "        aligned_lines = json.load(reader)\n",
    "        \n",
    "    # compute\n",
    "    # trascript\n",
    "    transcript = aligned_lines['transcript']\n",
    "    words = aligned_lines['words']\n",
    "    \n",
    "    case = 'case'\n",
    "    fails = [words[i] for i in range(len(words)) if words[i][case] == 'not-found-in-audio']\n",
    "    \n",
    "    # 这里的话就是一个初筛\n",
    "    fail_ratio = len(fails) / len(words)\n",
    "    errorRate_over_tracks[track_name] = '{:.2%}'.format(fail_ratio)"
   ]
  },
  {
   "cell_type": "code",
   "execution_count": 19,
   "metadata": {},
   "outputs": [],
   "source": [
    "def compute_aggregate(path, errorRate_over_tracks):\n",
    "    # test on 5 algined files\n",
    "    folder_prefix = path\n",
    "    \n",
    "    # get all the folders\n",
    "    dirs = [d for d in os.listdir(folder_prefix) if os.path.isdir(folder_prefix + d) and d != '.ipynb_checkpoints']\n",
    "    \n",
    "    album_paths = []\n",
    "    for album in dirs:\n",
    "        album_paths.append(folder_prefix + album)\n",
    "        \n",
    "    for album_path in album_paths:\n",
    "        aligned_files = [album_path + '/' + f for f in os.listdir(album_path) if os.path.isfile(album_path + '/' + f) and f.startswith('.DS') == False]\n",
    "        for aligned_file in aligned_files:\n",
    "            compute_fail_nums(aligned_file, errorRate_over_tracks)\n",
    "\n",
    "    # sort the error rate based on error rate\n",
    "#     errorRate_over_tracks_sorted = sorted(errorRate_over_tracks.items(), key=lambda kv: float(kv[1].strip('%'))/100)\n",
    "    errorRate_over_tracks = [(u, round(float(v.strip('%')) / 100, 3)) for u, v in errorRate_over_tracks.items()]\n",
    "    \n",
    "    # according to the threshold, select some workable tracks\n",
    "    filtered_tracks = dict(filter(select_tracks, errorRate_over_tracks))\n",
    "    \n",
    "    return filtered_tracks"
   ]
  },
  {
   "cell_type": "code",
   "execution_count": 40,
   "metadata": {},
   "outputs": [],
   "source": [
    "def select_tracks(track):\n",
    "    # if float(track[1].strip('%')) / 100 < 0.18:  # 0.18 as threshold\n",
    "    if track[1] < 0.18:\n",
    "        return True\n",
    "    else:\n",
    "        return False"
   ]
  },
  {
   "cell_type": "code",
   "execution_count": 41,
   "metadata": {},
   "outputs": [],
   "source": [
    "# collection info of error rate for each tracks\n",
    "errorRate_over_mixed = {}\n",
    "errorRate_over_vocal = {}"
   ]
  },
  {
   "cell_type": "code",
   "execution_count": 42,
   "metadata": {},
   "outputs": [],
   "source": [
    "mixed_err = compute_aggregate('data/mix_aligned/', errorRate_over_mixed)\n",
    "vocal_err = compute_aggregate('data/aligned/', errorRate_over_vocal)"
   ]
  },
  {
   "cell_type": "code",
   "execution_count": 43,
   "metadata": {},
   "outputs": [],
   "source": [
    "x_mixed = [k for k in mixed_err.keys()]\n",
    "y_mixed = [v for v in mixed_err.values()]"
   ]
  },
  {
   "cell_type": "code",
   "execution_count": 44,
   "metadata": {},
   "outputs": [
    {
     "ename": "KeyError",
     "evalue": "'Chronic/death_row_aligned'",
     "output_type": "error",
     "traceback": [
      "\u001b[0;31m---------------------------------------------------------------------------\u001b[0m",
      "\u001b[0;31mKeyError\u001b[0m                                  Traceback (most recent call last)",
      "\u001b[0;32m<ipython-input-44-0576726ea8aa>\u001b[0m in \u001b[0;36m<module>\u001b[0;34m\u001b[0m\n\u001b[1;32m      3\u001b[0m     \u001b[0mfound\u001b[0m \u001b[0;34m=\u001b[0m \u001b[0mpath\u001b[0m\u001b[0;34m.\u001b[0m\u001b[0mfind\u001b[0m\u001b[0;34m(\u001b[0m\u001b[0;34m'mixed'\u001b[0m\u001b[0;34m)\u001b[0m\u001b[0;34m\u001b[0m\u001b[0;34m\u001b[0m\u001b[0m\n\u001b[1;32m      4\u001b[0m     \u001b[0mx\u001b[0m \u001b[0;34m=\u001b[0m \u001b[0mpath\u001b[0m\u001b[0;34m[\u001b[0m\u001b[0;34m:\u001b[0m\u001b[0mfound\u001b[0m\u001b[0;34m]\u001b[0m \u001b[0;34m+\u001b[0m \u001b[0;34m'aligned'\u001b[0m\u001b[0;34m\u001b[0m\u001b[0;34m\u001b[0m\u001b[0m\n\u001b[0;32m----> 5\u001b[0;31m     \u001b[0my_vocal\u001b[0m\u001b[0;34m.\u001b[0m\u001b[0mappend\u001b[0m\u001b[0;34m(\u001b[0m\u001b[0mvocal_err\u001b[0m\u001b[0;34m[\u001b[0m\u001b[0mx\u001b[0m\u001b[0;34m]\u001b[0m\u001b[0;34m)\u001b[0m\u001b[0;34m\u001b[0m\u001b[0;34m\u001b[0m\u001b[0m\n\u001b[0m",
      "\u001b[0;31mKeyError\u001b[0m: 'Chronic/death_row_aligned'"
     ]
    }
   ],
   "source": [
    "y_vocal = []\n",
    "for path in x_mixed:\n",
    "    found = path.find('mixed')\n",
    "    x = path[:found] + 'aligned'\n",
    "    y_vocal.append(vocal_err[x])"
   ]
  },
  {
   "cell_type": "code",
   "execution_count": 32,
   "metadata": {},
   "outputs": [
    {
     "data": {
      "text/plain": [
       "('11.56%', '17.40%')"
      ]
     },
     "execution_count": 32,
     "metadata": {},
     "output_type": "execute_result"
    }
   ],
   "source": [
    "'{:.2%}'.format(np.mean(y_mixed)), '{:.2%}'.format(max(y_mixed))"
   ]
  },
  {
   "cell_type": "code",
   "execution_count": null,
   "metadata": {},
   "outputs": [],
   "source": [
    "'{:.2%}'.format(np.mean(y_vocal)), '{:.2%}'.format(max(y_vocal))"
   ]
  },
  {
   "cell_type": "code",
   "execution_count": null,
   "metadata": {},
   "outputs": [],
   "source": [
    "mixed_avg = np.mean(y_mixed)\n",
    "vocal_avg = np.mean(y_vocal)"
   ]
  },
  {
   "cell_type": "code",
   "execution_count": null,
   "metadata": {},
   "outputs": [],
   "source": [
    "'{:.2%}'.format((mixed_avg - vocal_avg) / mixed_avg)"
   ]
  },
  {
   "cell_type": "code",
   "execution_count": null,
   "metadata": {},
   "outputs": [],
   "source": [
    "plt.figure(figsize=(20,12))\n",
    "plt.plot(x_mixed, y_mixed, label='Before Source Separation')\n",
    "plt.plot(x_mixed, y_vocal, label='After Source Separation')\n",
    "plt.xlabel('Track Name')\n",
    "plt.ylabel('Error Rate')\n",
    "plt.title('Alignment Error Rate Before Source Separation vs. After Source Separation')\n",
    "plt.xticks(x_mixed, rotation='vertical')\n",
    "plt.legend()\n",
    "plt.margins(0.1)\n",
    "plt.savefig('figures/Alignment_Errorrate_Comparison', bbox_inches='tight')"
   ]
  },
  {
   "cell_type": "code",
   "execution_count": null,
   "metadata": {},
   "outputs": [],
   "source": [
    "filtered_tracks = compute_aggregate('data/aligned/', errorRate_over_vocal)\n",
    "filtered_tracks = {u: '{:.2%}'.format(v) for u, v in filtered_tracks.items()}"
   ]
  },
  {
   "cell_type": "code",
   "execution_count": null,
   "metadata": {},
   "outputs": [],
   "source": [
    "filtered_tracks = sorted(filtered_tracks.items(), key=lambda kv: float(kv[1].strip('%'))/100)\n",
    "filtered_tracks = dict(filtered_tracks)"
   ]
  },
  {
   "cell_type": "code",
   "execution_count": null,
   "metadata": {},
   "outputs": [],
   "source": [
    "data = {'Tracks': list(filtered_tracks.keys()), 'Error Rate': list(filtered_tracks.values())}"
   ]
  },
  {
   "cell_type": "code",
   "execution_count": null,
   "metadata": {},
   "outputs": [],
   "source": [
    "pd.set_option('colheader_justify', 'left')\n",
    "df = pd.DataFrame(data=data)\n",
    "# # dfStyler = df.style.set_properties(**{'text-align': 'right'})"
   ]
  },
  {
   "cell_type": "code",
   "execution_count": 46,
   "metadata": {},
   "outputs": [],
   "source": [
    "def compute_phone_timestamp(TYPE, aligned_phones, start_time, durations, phonemes, resolution):\n",
    "    '''\n",
    "        Returns a list the phonemes while keeping track of the start time of each phoneme\n",
    "    '''\n",
    "    \n",
    "    precision = 0.001\n",
    "    \n",
    "    if TYPE == 'full':\n",
    "    \n",
    "        n = min(len(durations), len(phonemes))\n",
    "\n",
    "        s = round(start_time, 3)\n",
    "        aligned_phones[round(s - precision, 3)] = 'START'\n",
    "        aligned_phones[s] = phonemes[0]\n",
    "\n",
    "\n",
    "        for i in range(n - 1):\n",
    "            # take care of the round off error\n",
    "            next_s = round(start_time + durations[i], 3)\n",
    "            aligned_phones[round(next_s - precision, 3)] = phonemes[i]\n",
    "            aligned_phones[next_s] = phonemes[i + 1]\n",
    "            start_time += durations[i]\n",
    "        \n",
    "        \n",
    "        e = round(start_time + durations[-1], 3)\n",
    "        aligned_phones[round(e - precision, 3)] = phonemes[n - 1]\n",
    "        aligned_phones[e] = 'END'\n",
    "        \n",
    "    elif TYPE == 'half':\n",
    "        \n",
    "        time_interval = round(durations[0] - start_time, 3)\n",
    "        \n",
    "        n = len(phonemes)\n",
    "\n",
    "        step = time_interval / n\n",
    "        \n",
    "        if time_interval < resolution or phonemes == ['UNK']:\n",
    "            s = round(start_time, 3)\n",
    "            e = round(durations[0], 3)\n",
    "            aligned_phones[s] = 'UNK'\n",
    "            aligned_phones[e] = 'UNK'\n",
    "        else:  \n",
    "            s = round(start_time, 3)\n",
    "            aligned_phones[round(s - precision, 3)] = 'START'\n",
    "            aligned_phones[s] = phonemes[0]\n",
    "\n",
    "            for i in range(1, n):\n",
    "                # take care of the round off error\n",
    "                next_s = round(start_time + step, 3)\n",
    "                aligned_phones[round(next_s - precision, 3)] = phonemes[i - 1]\n",
    "                aligned_phones[next_s] = phonemes[i]\n",
    "                start_time += step\n",
    "            \n",
    "            e = round(start_time + step, 3)\n",
    "            aligned_phones[round(e - precision, 3)] = phonemes[n - 1]\n",
    "            aligned_phones[e] = 'END'\n",
    "            \n",
    "    elif TYPE == 'not-found':\n",
    "        \n",
    "        s = round(start_time, 3)\n",
    "        e = round(durations[0], 3)\n",
    "        \n",
    "        aligned_phones[s] = 'UNK'\n",
    "        aligned_phones[e] = 'UNK'"
   ]
  },
  {
   "cell_type": "code",
   "execution_count": 47,
   "metadata": {},
   "outputs": [],
   "source": [
    "# specify some necessary parameters\n",
    "hop_len = 1024\n",
    "win_len = 2048\n",
    "resolution = hop_len / 44100"
   ]
  },
  {
   "cell_type": "code",
   "execution_count": 48,
   "metadata": {},
   "outputs": [
    {
     "data": {
      "text/plain": [
       "{25.969: 'START',\n",
       " 25.97: 'JH',\n",
       " 26.059: 'JH',\n",
       " 26.06: 'AA1',\n",
       " 26.179: 'AA1',\n",
       " 26.18: 'B',\n",
       " 26.279: 'B',\n",
       " 26.28: 'END'}"
      ]
     },
     "execution_count": 48,
     "metadata": {},
     "output_type": "execute_result"
    }
   ],
   "source": [
    "# test\n",
    "phoneme_dict = phoneme_dict_reader('cmudict.txt')\n",
    "aligned_phones = dict()\n",
    "start_time = 25.97\n",
    "durations = [0.09, 0.12, 0.1]\n",
    "phonemes = phoneme_dict['job']\n",
    "compute_phone_timestamp('full', aligned_phones, start_time, durations, phonemes, resolution)\n",
    "aligned_phones"
   ]
  },
  {
   "cell_type": "code",
   "execution_count": 49,
   "metadata": {},
   "outputs": [],
   "source": [
    "def get_aligned_track(path, aligned_track_phones, aligned_track_words, misalligned_track_words):\n",
    "    '''\n",
    "        Get the aligned track information together with misalligned information\n",
    "    '''\n",
    "    # find '/'\n",
    "    start_idx = path.find('/', 8)\n",
    "    track_name = path[start_idx + 1:-4] # corresponding to specific path format\n",
    "    \n",
    "    # read the aligned file\n",
    "    with open(path, 'r') as reader:\n",
    "    #     lines = reader.readlines()\n",
    "        aligned_lines = json.load(reader)\n",
    "        \n",
    "    # compute\n",
    "    # trascript\n",
    "    transcript = aligned_lines['transcript']\n",
    "    words = aligned_lines['words']\n",
    "    case = 'case'\n",
    "    \n",
    "    aligned_track_words[track_name] = dict()\n",
    "    misalligned_track_words[track_name] = dict()\n",
    "    aligned_track_phones[track_name] = dict()\n",
    "    aligned_track_phones[track_name][0.0] = 'START'\n",
    "\n",
    "    phoneme_dict = phoneme_dict_reader('cmudict.txt')\n",
    "    \n",
    "    # compute alignment info and mis-aligned info\n",
    "    start_word = 'start'\n",
    "    fail_interval = ''\n",
    "    fail_words = []\n",
    "    flag = True\n",
    "    for i in range(len(words)):\n",
    "        word = words[i]\n",
    "        case = word['case']\n",
    "        if case == 'success':\n",
    "            # need to compute the misalignment first\n",
    "            if not flag:\n",
    "                fail_interval += '%.2f' % (word['start'])\n",
    "                flag = True\n",
    "                misalligned_track_words[track_name][fail_interval] = fail_words\n",
    "                aligned_track_words[track_name][fail_interval] = fail_words\n",
    "                found = fail_interval.find('-')\n",
    "                fail_start = float(fail_interval[:found])\n",
    "                fail_end = float(fail_interval[found+1:])\n",
    "                # for words not get aligned, we label it as unknown\n",
    "                compute_phone_timestamp('not-found', aligned_track_phones[track_name], fail_start, [fail_end], ['UNK'], resolution)\n",
    "                fail_interval = ''\n",
    "                fail_words = []\n",
    "            \n",
    "            # for computing successfully aligned words\n",
    "            success_start_time = word['start']\n",
    "            success_start = '%.2f' % word['start']\n",
    "            success_end_time = word['end']\n",
    "#             success_time_interval = '%.2f' % (success_start) + '-' + '%.2f' % (success_end)\n",
    "            aligned_track_words[track_name][success_start] = []\n",
    "\n",
    "            aligned_word = word['alignedWord']\n",
    "            # if the aligned word is recorded, then we need to keep track of the start time of each phoneme, \n",
    "            # otherwise we just do the uniform interpolation\n",
    "            if aligned_word == '<unk>':\n",
    "                w = word['word']\n",
    "                if w.lower() in phoneme_dict:\n",
    "                    phonemes = phoneme_dict[w.lower()]\n",
    "                else:\n",
    "                    phonemes = ['UNK']\n",
    "                aligned_track_words[track_name][success_start].append((w, phonemes))\n",
    "                compute_phone_timestamp('half', aligned_track_phones[track_name], success_start_time, [success_end_time], phonemes, resolution)\n",
    "                \n",
    "            else:\n",
    "                phones = word['phones']\n",
    "                durations = [p['duration'] for p in phones]\n",
    "                phonemes = phoneme_dict[aligned_word.lower()]\n",
    "                compute_phone_timestamp('full', aligned_track_phones[track_name], success_start_time, durations, phonemes, resolution)\n",
    "                aligned_track_words[track_name][success_start].append((aligned_word, phonemes))\n",
    "        \n",
    "        elif case == 'not-found-in-audio':\n",
    "            if flag and not i: # if the first word is not successfully aligned, then the start time will be 'start'\n",
    "                fail_interval += 'start-'\n",
    "            elif flag and i:\n",
    "                fail_interval += '%.2f' % (words[i - 1]['end']) + '-'\n",
    "#                 fail_start += '%.2f' % (words[i - 1]['end'])\n",
    "            flag = False\n",
    "            fail_word = word['word']\n",
    "            if fail_word.lower() in phoneme_dict:\n",
    "                fw, fail_phonemes = fail_word, phoneme_dict[fail_word.lower()]\n",
    "            else:\n",
    "                fw, fail_phonemes = fail_word, ['UNK']\n",
    "            fail_words += [(fw, fail_phonemes)]\n",
    "    \n",
    "    \n",
    "#     # tail case if the last several alignments are incorrect and never met 'succuess'\n",
    "    if fail_words and case != 'success':\n",
    "#         fail_interval += 'end'\n",
    "        flag = True\n",
    "        misalligned_track_words[track_name][fail_start] = fail_words\n",
    "        fail_interval = ''\n",
    "        fail_words = []\n",
    "        \n",
    "#     # miss alignment statistics\n",
    "#     for vals in fail_dict.values():\n",
    "#         for val in vals:\n",
    "#             word = val.lower()\n",
    "#             fail_nums[word] = fail_nums.get(word, 0) + 1\n",
    "    "
   ]
  },
  {
   "cell_type": "code",
   "execution_count": 50,
   "metadata": {},
   "outputs": [],
   "source": [
    "# test for get phoeneme sequence\n",
    "path = 'data/aligned/Criminal/criminal_minded_aligned.txt'\n",
    "aligned_track_info = {} # including phonemes that are corrected\n",
    "misaligned_track_info = {}\n",
    "aligned_track_phones = {}\n",
    "get_aligned_track(path, aligned_track_phones, aligned_track_info, misaligned_track_info)"
   ]
  },
  {
   "cell_type": "code",
   "execution_count": 51,
   "metadata": {},
   "outputs": [],
   "source": [
    "# aligned_track_info\n",
    "# aligned_track_phones\n",
    "# misaligned_track_info"
   ]
  },
  {
   "cell_type": "code",
   "execution_count": 52,
   "metadata": {},
   "outputs": [],
   "source": [
    "def get_syllable_sequences(aligned_track_phonemes):\n",
    "    '''\n",
    "    Returns a sequence of syllables for each aligned word\n",
    "    '''\n",
    "    track_aligned_syllables = dict()\n",
    "    for track_name, aligned_sequence in aligned_track_phonemes.items():\n",
    "        track_aligned_syllables[track_name] = dict()\n",
    "        for time_stamp, word_sequences in aligned_sequence.items():\n",
    "            syllable_sequences = []\n",
    "            track_aligned_syllables[track_name][time_stamp] = []\n",
    "            for word_phone_pair in word_sequences:\n",
    "                last_syllable = get_last_syllable(word_phone_pair)\n",
    "                syllable_sequences.append(last_syllable)\n",
    "                track_aligned_syllables[track_name][time_stamp].append((word_phone_pair[0], last_syllable))\n",
    "        \n",
    "    return track_aligned_syllables"
   ]
  },
  {
   "cell_type": "code",
   "execution_count": 53,
   "metadata": {},
   "outputs": [],
   "source": [
    "def get_last_syllable(word_phone_pair):\n",
    "    '''\n",
    "        Returns the last syllable of a word\n",
    "    ''' \n",
    "    import re\n",
    "    \n",
    "    last_syllable = ''\n",
    "    phonemes = word_phone_pair[1]\n",
    "    for phone in phonemes:\n",
    "            if re.sub(r'\\d', '', phone) in VOWELS:\n",
    "                last_syllable = ''\n",
    "            last_syllable += phone\n",
    "    return last_syllable"
   ]
  },
  {
   "cell_type": "code",
   "execution_count": 424,
   "metadata": {},
   "outputs": [],
   "source": [
    "def get_phone_type(phone_set):\n",
    "    '''\n",
    "    Returns the phone type for a given track\n",
    "    '''\n",
    "    VOWELS = ['AA', 'AE', 'AH', 'AO', 'AW', 'AX', 'AY', 'EH', 'ER', 'EY', 'OW', 'OY', 'IH', 'IY', 'IX', 'UW', 'UX', 'UH']\n",
    "    phone_type = collections.defaultdict(set)\n",
    "    for phone in phone_set:\n",
    "        phone = phone.upper()\n",
    "        # edge case\n",
    "        if phone == 'AH)':\n",
    "            phone = 'AH'\n",
    "        # ignore the stress label    \n",
    "#         phone = re.sub('\\d|\\W', '', phone)\n",
    "        if phone in VOWELS:\n",
    "            phone_type['VOWEL'].add(phone)\n",
    "        else:\n",
    "            phone_type['CONSONANT'].add(phone)\n",
    "\n",
    "    return phone_type\n",
    "\n",
    "# 这里可以做不同的experimentation(只考虑vowels vs 只考虑vowels/consonants, or 加不加stress label)\n",
    "phone_type = get_phone_type(phone_set)\n",
    "vowels = list(phone_type['VOWEL'])\n",
    "vowels.sort()\n",
    "consonants = list(phone_type['CONSONANT'])\n",
    "consonants.sort()\n",
    "phone_classes = vowels + consonants"
   ]
  },
  {
   "cell_type": "code",
   "execution_count": 425,
   "metadata": {},
   "outputs": [
    {
     "data": {
      "text/plain": [
       "74"
      ]
     },
     "execution_count": 425,
     "metadata": {},
     "output_type": "execute_result"
    }
   ],
   "source": [
    "len(phone_classes)"
   ]
  },
  {
   "cell_type": "code",
   "execution_count": 426,
   "metadata": {},
   "outputs": [],
   "source": [
    "def get_aligned_phone_seq(aligned_track_phones):\n",
    "    '''\n",
    "        Returns the aligned phoneme sequence for a given track together with the list of timestamps\n",
    "    '''\n",
    "    aligned_phone_seq = []\n",
    "    aligned_timestamp =[]\n",
    "    for path, time_phone_pair in aligned_track_phones.items():\n",
    "        time_phone_pair = [(u, v) for u, v in time_phone_pair.items()]\n",
    "        time_phone_pair.sort(key=lambda k: k[0])\n",
    "        for time_stamp, phone in time_phone_pair:\n",
    "            aligned_timestamp.append(time_stamp)\n",
    "            aligned_phone_seq.append(phone)\n",
    "    \n",
    "    return np.array(aligned_timestamp), np.array(aligned_phone_seq)"
   ]
  },
  {
   "cell_type": "code",
   "execution_count": 427,
   "metadata": {},
   "outputs": [],
   "source": [
    "def get_sampled_phone_seq(aligned_timestamp, aligned_phone_seq, sample_interval):\n",
    "    '''\n",
    "        Returns the sampled aligned sequence under given sample interval\n",
    "    '''\n",
    "    \n",
    "    \n",
    "    n = min(len(aligned_timestamp), len(aligned_phone_seq))\n",
    "    \n",
    "    sampled_phone_seq = []\n",
    "    sampled_timestamp = []\n",
    "    \n",
    "    for i in range(0, n, sample_interval):\n",
    "        sampled_phone_seq.append(aligned_phone_seq[i])\n",
    "        sampled_timestamp.append(aligned_timestamp[i])\n",
    "\n",
    "    \n",
    "    return np.array(sampled_timestamp), np.array(sampled_phone_seq)"
   ]
  },
  {
   "cell_type": "code",
   "execution_count": 428,
   "metadata": {},
   "outputs": [],
   "source": [
    "aligned_timestamp, aligned_phone_seq = get_aligned_phone_seq(aligned_track_phones)"
   ]
  },
  {
   "cell_type": "code",
   "execution_count": 430,
   "metadata": {},
   "outputs": [],
   "source": [
    "# aligned_phone_seq\n",
    "# aligned_timestamp"
   ]
  },
  {
   "cell_type": "code",
   "execution_count": 431,
   "metadata": {},
   "outputs": [],
   "source": [
    "# compute audio features"
   ]
  },
  {
   "cell_type": "code",
   "execution_count": 432,
   "metadata": {},
   "outputs": [],
   "source": [
    "def compute_mfcc(path, sr):\n",
    "    '''\n",
    "        Returns the mfcc feature for the given audio\n",
    "    '''\n",
    "    # read audio signal\n",
    "    y, sr = librosa.load(path, sr=sr)\n",
    "\n",
    "    # compute the mfcc and get the duration\n",
    "    mfcc = librosa.feature.mfcc(y, sr=sr, n_mfcc=14, n_fft=2048, hop_length=1024)\n",
    "    duration = librosa.core.get_duration(y=y, sr=sr, n_fft=2048, hop_length=1024)\n",
    "    \n",
    "    return mfcc, duration"
   ]
  },
  {
   "cell_type": "code",
   "execution_count": 433,
   "metadata": {},
   "outputs": [],
   "source": [
    "audio_path = 'data/vocals/Criminal/criminal_minded/vocals.wav'\n",
    "mfcc_feature, duration = compute_mfcc(audio_path, 44100)\n"
   ]
  },
  {
   "cell_type": "code",
   "execution_count": 434,
   "metadata": {},
   "outputs": [
    {
     "data": {
      "text/plain": [
       "(14, 13792)"
      ]
     },
     "execution_count": 434,
     "metadata": {},
     "output_type": "execute_result"
    }
   ],
   "source": [
    "mfcc_feature.shape"
   ]
  },
  {
   "cell_type": "code",
   "execution_count": 435,
   "metadata": {},
   "outputs": [
    {
     "data": {
      "image/png": "[encoded data removed]",
      "text/plain": [
       "<Figure size 1440x864 with 2 Axes>"
      ]
     },
     "metadata": {},
     "output_type": "display_data"
    }
   ],
   "source": [
    "plot_matrix(mfcc_feature)"
   ]
  },
  {
   "cell_type": "code",
   "execution_count": 436,
   "metadata": {},
   "outputs": [],
   "source": [
    "aligned_phone_seq = np.append(aligned_phone_seq, 'END')\n",
    "aligned_timestamp = np.append(aligned_timestamp, duration)"
   ]
  },
  {
   "cell_type": "code",
   "execution_count": 437,
   "metadata": {},
   "outputs": [],
   "source": [
    "def get_phone_encoding(phone, phone_classes):\n",
    "    '''\n",
    "        Returns the phone encoding\n",
    "    '''\n",
    "    \n",
    "    if phone == 'UNK' or phone == 'START' or phone == 'END':\n",
    "        ohe_vector = np.array([np.nan for _ in range(len(phone_classes))])\n",
    "    else:\n",
    "        phone_vector = np.array(phone_classes)\n",
    "        ohe_vector = np.where(phone_vector == phone , 1, 0)\n",
    "    \n",
    "    return ohe_vector"
   ]
  },
  {
   "cell_type": "code",
   "execution_count": 438,
   "metadata": {},
   "outputs": [],
   "source": [
    "def compute_feature_matrix(phone_seq, phone_classes):\n",
    "    '''\n",
    "        Returns the feature matrix (using one-hot encoder from sklearn)\n",
    "    '''\n",
    "    \n",
    "    n = len(phone_seq)\n",
    "    size = len(phone_classes)\n",
    "    \n",
    "    \n",
    "    feature_matrix = None\n",
    "    count = 0\n",
    "    \n",
    "    for i in range(n):\n",
    "        phone = phone_seq[i]\n",
    "        # ignore the stress label \n",
    "        phone = re.sub('\\d|\\W', '', phone)\n",
    "        feature_vector = get_phone_encoding(phone, phone_classes)\n",
    "        if feature_matrix is None:\n",
    "            feature_matrix = feature_vector\n",
    "        else:\n",
    "            feature_matrix = np.vstack((feature_matrix, feature_vector))\n",
    "    \n",
    "    return feature_matrix.T"
   ]
  },
  {
   "cell_type": "code",
   "execution_count": 439,
   "metadata": {},
   "outputs": [
    {
     "data": {
      "text/plain": [
       "(74, 5382)"
      ]
     },
     "execution_count": 439,
     "metadata": {},
     "output_type": "execute_result"
    }
   ],
   "source": [
    "fm = compute_feature_matrix(aligned_phone_seq, phone_classes)\n",
    "fm.shape"
   ]
  },
  {
   "cell_type": "code",
   "execution_count": 440,
   "metadata": {},
   "outputs": [],
   "source": [
    "# create the interpolation function\n",
    "func = sci.interpolate.interp1d(aligned_timestamp, fm, axis=1)"
   ]
  },
  {
   "cell_type": "code",
   "execution_count": 441,
   "metadata": {},
   "outputs": [],
   "source": [
    "def compute_SM_dot(X,Y):\n",
    "    \"\"\"Computes similarty matrix from feature sequences using dot (inner) product\n",
    "    Notebook: C4/C4S2_SSM.ipynb\n",
    "    \"\"\"    \n",
    "    S = np.dot(np.transpose(Y),X) \n",
    "#     S = np.matmul(np.transpose(Y), X)\n",
    "    return S"
   ]
  },
  {
   "cell_type": "code",
   "execution_count": 442,
   "metadata": {},
   "outputs": [
    {
     "data": {
      "text/plain": [
       "(5382, 5382)"
      ]
     },
     "execution_count": 442,
     "metadata": {},
     "output_type": "execute_result"
    }
   ],
   "source": [
    "phoneme_SSM = compute_SM_dot(fm, fm)\n",
    "phoneme_SSM.shape"
   ]
  },
  {
   "cell_type": "code",
   "execution_count": 443,
   "metadata": {},
   "outputs": [],
   "source": [
    "def plot_feature_SSM(SSM):\n",
    "    sub_SSM = SSM[100:200,100:200]\n",
    "    ax = sns.heatmap(sub_SSM, vmin=0, vmax=1, cmap='BuPu')\n",
    "    ax.invert_yaxis()\n",
    "    sns.set(rc={'figure.figsize':(20,12)})\n",
    "    plt.margins(0.1)\n",
    "#     plt.savefig('figures/Phoneme_SSM', bbox_inches='tight')"
   ]
  },
  {
   "cell_type": "code",
   "execution_count": 444,
   "metadata": {},
   "outputs": [
    {
     "data": {
      "image/png": "[encoded data removed]",
      "text/plain": [
       "<Figure size 1440x864 with 2 Axes>"
      ]
     },
     "metadata": {},
     "output_type": "display_data"
    }
   ],
   "source": [
    "plot_feature_SSM(phoneme_SSM)"
   ]
  },
  {
   "cell_type": "code",
   "execution_count": 445,
   "metadata": {},
   "outputs": [],
   "source": [
    "def get_valid_indices(SSM):\n",
    "    '''\n",
    "        Returns the indices of valid outputs from SSM and remove the nan indices\n",
    "    '''\n",
    "\n",
    "    rows, cols = np.triu_indices_from(SSM, k = 1)\n",
    "    nan_pair = np.argwhere(np.isnan(SSM))\n",
    "    set1 = set([(u ,v) for u, v in zip(rows, cols)])\n",
    "    set2 = set(list(map(tuple, nan_pair)))\n",
    "    \n",
    "    return set1 - set2"
   ]
  },
  {
   "cell_type": "code",
   "execution_count": 446,
   "metadata": {},
   "outputs": [],
   "source": [
    "def get_pair(SSM, valid_indices, hop_len, aligned_timestamp, threshold):\n",
    "    '''\n",
    "        Returns the indices of the rhyming pair and non-rhyming pair on phonemes\n",
    "    '''\n",
    "    \n",
    "    rhyming_pair = set()\n",
    "    non_rhyming_pair = set()\n",
    "    \n",
    "    for u, v in valid_indices:\n",
    "        t1 = aligned_timestamp[u]\n",
    "        t2 = aligned_timestamp[v]\n",
    "        if abs(t2 - t1) >= threshold or abs(t2 - t1) < 0.2: # set up a threshold \n",
    "            continue\n",
    "        if phoneme_SSM[u, v] == 1.0:\n",
    "            rhyming_pair.add((u, v))\n",
    "        else:\n",
    "            non_rhyming_pair.add((u, v))\n",
    "\n",
    "    return rhyming_pair, non_rhyming_pair"
   ]
  },
  {
   "cell_type": "code",
   "execution_count": 447,
   "metadata": {},
   "outputs": [],
   "source": [
    "valid_indices = get_valid_indices(phoneme_SSM)"
   ]
  },
  {
   "cell_type": "code",
   "execution_count": 448,
   "metadata": {},
   "outputs": [],
   "source": [
    "rhyming_pair, non_rhyming_pair = get_pair(phoneme_SSM, valid_indices, hop_len, aligned_timestamp, 5.0)"
   ]
  },
  {
   "cell_type": "code",
   "execution_count": 449,
   "metadata": {},
   "outputs": [],
   "source": [
    "# initialization\n",
    "anlysis_report = dict()\n",
    "dataframes_by_gamma = dict()"
   ]
  },
  {
   "cell_type": "code",
   "execution_count": null,
   "metadata": {},
   "outputs": [],
   "source": [
    "def match_resolution(aligned_phone_seq, aligned_timestamp, sample_interval, i, j, hop_len):\n",
    "    '''\n",
    "        Match the resolution between sub part of phoneme SSM and mfcc SSM\n",
    "    '''\n",
    "    start_idx = i * sample_interval\n",
    "    end_idx = j * sample_interval\n",
    "\n",
    "    # get the part of aligned phoneme sequences and timestamps\n",
    "    phone_seq = aligned_phone_seq[start_idx:end_idx + 1]\n",
    "    timestamp_seq = aligned_timestamp[start_idx:end_idx + 1]\n",
    "    \n",
    "    start_time = timestamp_seq[0]\n",
    "    end_time = timestamp_seq[-1]\n",
    "    \n",
    "    resolution = hop_len / 44100\n",
    "    \n",
    "    n = min(len(phone_seq), len(timestamp_seq))\n",
    "    \n",
    "    sub_feature_matrix = None\n",
    "    \n",
    "    for k in range(n - 1):\n",
    "        p1 = phone_seq[k]\n",
    "        p2 = phone_seq[k + 1]\n",
    "        t1 = float(timestamp_seq[k])\n",
    "        t2 = float(timestamp_seq[k + 1])\n",
    "             \n",
    "        if sub_feature_matrix is None:\n",
    "            sub_feature_matrix = make_matched_fm(p1, p2, t1, t2, phone_classes, resolution)\n",
    "        else:\n",
    "            sub_feature_matrix = np.vstack((sub_feature_matrix, make_matched_fm(p1, p2, t1, t2, phone_classes, resolution)))\n",
    "            \n",
    "    return sub_feature_matrix.T"
   ]
  },
  {
   "cell_type": "code",
   "execution_count": 103,
   "metadata": {},
   "outputs": [],
   "source": [
    "def make_matched_fm(p1, p2, t1, t2, phone_classes, resolution):\n",
    "    v1 = get_phone_encoding(p1, phone_classes)\n",
    "    v2 = get_phone_encoding(p2, phone_classes)\n",
    "    \n",
    "    time_interval = round(t2 - t1, 2)\n",
    "    \n",
    "    \n",
    "    if time_interval < resolution:\n",
    "        fm = get_phone_encoding(p1, phone_classes)\n",
    "        return fm\n",
    "    \n",
    "    cols = math.floor(time_interval / resolution) + 1\n",
    "    size = len(phone_classes)\n",
    "    \n",
    "    f1 = get_phone_encoding(p1, phone_classes)\n",
    "    f2 = get_phone_encoding(p2, phone_classes)\n",
    "    \n",
    "    # initiate the interpolation matrix\n",
    "    interpolate_fm = np.zeros((size, cols))\n",
    "    \n",
    "    \n",
    "    interpolate_fm[:, 0] = f1\n",
    "#     interpolate_fm[:, cols-1] = f2\n",
    "    \n",
    "    if p1 == 'END':\n",
    "        for c in range(1, cols - 1):\n",
    "            interpolate_fm[:, c] = f1\n",
    "    \n",
    "    else:\n",
    "        x = np.array([0, cols - 1])\n",
    "        y = np.array([f1, f2])\n",
    "        y = y.T\n",
    "        # create interpolate function\n",
    "        func = sci.interpolate.interp1d(x, y, kind='nearest', axis=1)\n",
    "\n",
    "        for c in range(1, cols - 1):\n",
    "            interpolate_fm[:, c] = func(c)\n",
    "    \n",
    "    return interpolate_fm.T\n",
    "    "
   ]
  },
  {
   "cell_type": "code",
   "execution_count": 496,
   "metadata": {},
   "outputs": [],
   "source": [
    "def plot_interpolated_matrix(ssm):\n",
    "    ax = sns.heatmap(ssm, vmin=0, vmax=1, cmap='BuPu')\n",
    "    ax.invert_yaxis()\n",
    "    sns.set(rc={'figure.figsize':(20,12)})\n",
    "    plt.margins(0.1)\n",
    "    plt.savefig('figures/Interpolated_SSM', bbox_inches='tight')\n",
    "\n",
    "def plot_matrix(m):\n",
    "    '''\n",
    "        Plot the matrix\n",
    "    '''\n",
    "    plt.figure(figsize=(20, 12))\n",
    "    librosa.display.specshow(m)\n",
    "    plt.colorbar()\n",
    "    plt.savefig('figures/MFCC_SSM', bbox_inches='tight')\n",
    "    \n",
    "def threshold(y_preds):\n",
    "    '''\n",
    "        Returns the threshold of the classifier\n",
    "    '''\n",
    "    res = np.where(y_preds>0.65, 1, 0)\n",
    "    \n",
    "    return res\n",
    "\n",
    "\n",
    "def plot_pr_curve(y_labels, y_scores, time_diff_str, sigma):\n",
    "    '''\n",
    "        compute the precision and recall with varing thresholds and plot them\n",
    "    '''\n",
    "    precision, recall, threshold = metrics.precision_recall_curve(y_labels, y_scores)\n",
    "    auprc = metrics.average_precision_score(y_labels, y_scores)\n",
    "    \n",
    "#     plt.plot(recall, precision, label=time_diff_str)\n",
    "#     plt.step(recall, precision, color='b', alpha=0.2,\n",
    "#          where='post')\n",
    "#     plt.fill_between(recall, precision, alpha=0.2, color='b')\n",
    "#     plt.title('AUPRC with Sigma of 32')\n",
    "#     plt.xlabel('Recall')\n",
    "#     plt.ylabel('Precision')\n",
    "#     plt.ylim([0.0, 1.05])\n",
    "#     plt.xlim([0.0, 1.0])\n",
    "#     plt.legend()\n",
    "    \n",
    "    return auprc\n",
    "    \n",
    "def plot_roc_curve(y, scores, time_diff_str, sigma):\n",
    "    '''\n",
    "        compute the AUROC for given labels and scores\n",
    "    '''\n",
    "    \n",
    "    fpr, tpr, thresholds = metrics.roc_curve(y, scores, pos_label=1.0)\n",
    "    auroc = metrics.roc_auc_score(y, scores)\n",
    "    plt.plot(fpr, tpr, label=time_diff_str)\n",
    "    plt.title('AUROC with Sigma of 32')\n",
    "    plt.xlabel('False Positive Rate')\n",
    "    plt.ylabel('True Positive Rate')\n",
    "    plt.ylim([0.0, 1.05])\n",
    "    plt.xlim([0.0, 1.0])\n",
    "    plt.legend()\n",
    "    \n",
    "    return auroc"
   ]
  },
  {
   "cell_type": "code",
   "execution_count": 497,
   "metadata": {},
   "outputs": [],
   "source": [
    "def require_analysis_report(analysis_report, data_frames, mfcc_feature, rhyming_pair, aligned_phone_seq, aligned_timestamp, func, hop_len, sigma):\n",
    "    \n",
    "    '''\n",
    "        Returns the analysis report for rhyming pair\n",
    "    '''\n",
    "    plt.close()\n",
    "    step = hop_len / 44100\n",
    "    \n",
    "    n = 10\n",
    "    random.seed(50) \n",
    "    ramdon_selected_pairs = random.sample(rhyming_pair, k=n)\n",
    "    \n",
    "    time_intervals = []\n",
    "    time_diffs = []\n",
    "    precisions = []\n",
    "    recalls = []\n",
    "    f_beta_scores = []\n",
    "    aurocs = []\n",
    "    auprcs = []\n",
    "    \n",
    "    for u, v in ramdon_selected_pairs:\n",
    "        start_time = aligned_timestamp[u]\n",
    "        end_time = aligned_timestamp[v]\n",
    "        time_interval_str = str(round(start_time, 2)) + 's-' + str(round(end_time, 2)) +'s'\n",
    "        time_interval = (round(start_time, 2), round(end_time, 2))\n",
    "        time_diff = round(end_time - start_time, 2)\n",
    "        \n",
    "        start_frame = math.floor(start_time / step)\n",
    "        end_frame = math.floor(end_time / step) + 1\n",
    "        frame_num = end_frame - start_frame\n",
    "        \n",
    "        time = np.arange(start_time, end_time, step)\n",
    "        \n",
    "        if len(time) + 1 == end_frame - start_frame:\n",
    "            time = np.append(time, time[-1] + step)\n",
    "        \n",
    "        sub_mfcc = mfcc_feature[:,start_frame:end_frame]\n",
    "        \n",
    "        distance_matrix = sci.spatial.distance.cdist(sub_mfcc.T, sub_mfcc.T, metric='seuclidean')\n",
    "#         print(distance_matrix.shape)\n",
    "        \n",
    "        # gaussian kernel\n",
    "#         sigma = int(np.ceil(np.mean(distance_matrix) ** 2))\n",
    "        sub_mfcc_ssm = np.exp(-distance_matrix ** 2 / sigma)\n",
    "        \n",
    "        \n",
    "        interpolated_phone_seq = func(time)\n",
    "        \n",
    "        interpolated_ssm = compute_SM_dot(interpolated_phone_seq, interpolated_phone_seq)\n",
    "\n",
    "        # get the corresponding valid indices and compute the evaluation metrics\n",
    "        indices = get_valid_indices(interpolated_ssm)\n",
    "        rows = np.array([p[0] for p in indices])\n",
    "        cols = np.array([p[1] for p in indices])\n",
    "        \n",
    "        \n",
    "        if len(rows) and len(cols):\n",
    "            y_labels = interpolated_ssm[rows, cols].astype(int)\n",
    "            y_scores = sub_mfcc_ssm[rows, cols]\n",
    "\n",
    "            precision, recall, f_beta_score, support = sklearn.metrics.precision_recall_fscore_support(y_labels, threshold(y_scores), pos_label=1, average='binary')\n",
    "            auroc = plot_roc_curve(y_labels, y_scores, time_interval_str, sigma)\n",
    "            auprc = plot_pr_curve(y_labels, y_scores, time_interval_str, sigma)\n",
    "            \n",
    "            \n",
    "            analysis_report[(start_time, end_time)] = dict()\n",
    "            analysis_report[(start_time, end_time)]['precision'] = precision\n",
    "            analysis_report[(start_time, end_time)]['recall'] = recall\n",
    "            analysis_report[(start_time, end_time)]['f_beta_score'] = f_beta_score\n",
    "            analysis_report[(start_time, end_time)]['AUROC'] = auroc\n",
    "            analysis_report[(start_time, end_time)]['AUPRC'] = auprc\n",
    "            time_intervals.append(time_interval)\n",
    "            time_diffs.append(time_diff)\n",
    "            precisions.append(precision)\n",
    "            recalls.append(recall)\n",
    "            f_beta_scores.append(f_beta_score)\n",
    "            aurocs.append(auroc)\n",
    "            auprcs.append(auprc)\n",
    "    \n",
    "#     plt.savefig('figures/PR_curves_of_sigma_32(74)', bbox_inches='tight')        \n",
    "    plt.savefig('figures/ROC_curves_of_sigma_32(74)', bbox_inches='tight')        \n",
    "    data = {\n",
    "            'Time Interval': time_intervals,\n",
    "            'Time Difference': time_diffs,\n",
    "            'Precision': precisions,\n",
    "            'Recall': recalls,\n",
    "            'F_Beta_Score': f_beta_scores,\n",
    "            'AUROC': aurocs,\n",
    "            'AUPRC': auprcs\n",
    "        }\n",
    "        \n",
    "    df = pd.DataFrame(data=data)\n",
    "    df = df.set_index('Time Interval')\n",
    "    \n",
    "    data_frames[sigma] = df\n",
    "            \n",
    "        "
   ]
  },
  {
   "cell_type": "code",
   "execution_count": 498,
   "metadata": {},
   "outputs": [
    {
     "data": {
      "image/png": "[encoded data removed]",
      "text/plain": [
       "<Figure size 1440x864 with 1 Axes>"
      ]
     },
     "metadata": {},
     "output_type": "display_data"
    }
   ],
   "source": [
    "anlysis_report.clear()\n",
    "sigma = 2 ** 5\n",
    "require_analysis_report(anlysis_report, dataframes_by_gamme, mfcc_feature, rhyming_pair, aligned_phone_seq, aligned_timestamp, func, 1024, sigma)"
   ]
  },
  {
   "cell_type": "code",
   "execution_count": 499,
   "metadata": {},
   "outputs": [],
   "source": [
    "df = dataframes_by_gamme[32]"
   ]
  },
  {
   "cell_type": "code",
   "execution_count": 500,
   "metadata": {},
   "outputs": [
    {
     "data": {
      "text/html": [
       "<div>\n",
       "<style scoped>\n",
       "    .dataframe tbody tr th:only-of-type {\n",
       "        vertical-align: middle;\n",
       "    }\n",
       "\n",
       "    .dataframe tbody tr th {\n",
       "        vertical-align: top;\n",
       "    }\n",
       "\n",
       "    .dataframe thead th {\n",
       "        text-align: right;\n",
       "    }\n",
       "</style>\n",
       "<table border=\"1\" class=\"dataframe\">\n",
       "  <thead>\n",
       "    <tr style=\"text-align: right;\">\n",
       "      <th></th>\n",
       "      <th>Time Difference</th>\n",
       "      <th>Precision</th>\n",
       "      <th>Recall</th>\n",
       "      <th>F_Beta_Score</th>\n",
       "      <th>AUROC</th>\n",
       "      <th>AUPRC</th>\n",
       "    </tr>\n",
       "    <tr>\n",
       "      <th>Time Interval</th>\n",
       "      <th></th>\n",
       "      <th></th>\n",
       "      <th></th>\n",
       "      <th></th>\n",
       "      <th></th>\n",
       "      <th></th>\n",
       "    </tr>\n",
       "  </thead>\n",
       "  <tbody>\n",
       "    <tr>\n",
       "      <th>(213.53, 213.96)</th>\n",
       "      <td>0.43</td>\n",
       "      <td>0.241379</td>\n",
       "      <td>0.368421</td>\n",
       "      <td>0.291667</td>\n",
       "      <td>0.645326</td>\n",
       "      <td>0.191947</td>\n",
       "    </tr>\n",
       "    <tr>\n",
       "      <th>(267.59, 268.42)</th>\n",
       "      <td>0.83</td>\n",
       "      <td>0.228571</td>\n",
       "      <td>0.842105</td>\n",
       "      <td>0.359551</td>\n",
       "      <td>0.876715</td>\n",
       "      <td>0.446428</td>\n",
       "    </tr>\n",
       "    <tr>\n",
       "      <th>(30.31, 31.74)</th>\n",
       "      <td>1.43</td>\n",
       "      <td>0.203540</td>\n",
       "      <td>0.291139</td>\n",
       "      <td>0.239583</td>\n",
       "      <td>0.662760</td>\n",
       "      <td>0.232177</td>\n",
       "    </tr>\n",
       "    <tr>\n",
       "      <th>(37.77, 39.22)</th>\n",
       "      <td>1.45</td>\n",
       "      <td>0.232759</td>\n",
       "      <td>0.450000</td>\n",
       "      <td>0.306818</td>\n",
       "      <td>0.761768</td>\n",
       "      <td>0.340566</td>\n",
       "    </tr>\n",
       "    <tr>\n",
       "      <th>(167.19, 169.17)</th>\n",
       "      <td>1.98</td>\n",
       "      <td>0.149660</td>\n",
       "      <td>0.511628</td>\n",
       "      <td>0.231579</td>\n",
       "      <td>0.700773</td>\n",
       "      <td>0.189756</td>\n",
       "    </tr>\n",
       "    <tr>\n",
       "      <th>(84.04, 86.26)</th>\n",
       "      <td>2.22</td>\n",
       "      <td>0.153153</td>\n",
       "      <td>0.323810</td>\n",
       "      <td>0.207951</td>\n",
       "      <td>0.648036</td>\n",
       "      <td>0.164489</td>\n",
       "    </tr>\n",
       "    <tr>\n",
       "      <th>(82.77, 85.11)</th>\n",
       "      <td>2.34</td>\n",
       "      <td>0.174342</td>\n",
       "      <td>0.602273</td>\n",
       "      <td>0.270408</td>\n",
       "      <td>0.849265</td>\n",
       "      <td>0.256944</td>\n",
       "    </tr>\n",
       "    <tr>\n",
       "      <th>(25.7, 28.94)</th>\n",
       "      <td>3.24</td>\n",
       "      <td>0.061606</td>\n",
       "      <td>0.354430</td>\n",
       "      <td>0.104967</td>\n",
       "      <td>0.640108</td>\n",
       "      <td>0.067484</td>\n",
       "    </tr>\n",
       "    <tr>\n",
       "      <th>(60.74, 64.36)</th>\n",
       "      <td>3.62</td>\n",
       "      <td>0.109541</td>\n",
       "      <td>0.336957</td>\n",
       "      <td>0.165333</td>\n",
       "      <td>0.699679</td>\n",
       "      <td>0.148501</td>\n",
       "    </tr>\n",
       "    <tr>\n",
       "      <th>(103.64, 108.03)</th>\n",
       "      <td>4.39</td>\n",
       "      <td>0.263889</td>\n",
       "      <td>0.349693</td>\n",
       "      <td>0.300792</td>\n",
       "      <td>0.708941</td>\n",
       "      <td>0.246272</td>\n",
       "    </tr>\n",
       "  </tbody>\n",
       "</table>\n",
       "</div>"
      ],
      "text/plain": [
       "                  Time Difference  Precision    Recall  F_Beta_Score  \\\n",
       "Time Interval                                                          \n",
       "(213.53, 213.96)             0.43   0.241379  0.368421      0.291667   \n",
       "(267.59, 268.42)             0.83   0.228571  0.842105      0.359551   \n",
       "(30.31, 31.74)               1.43   0.203540  0.291139      0.239583   \n",
       "(37.77, 39.22)               1.45   0.232759  0.450000      0.306818   \n",
       "(167.19, 169.17)             1.98   0.149660  0.511628      0.231579   \n",
       "(84.04, 86.26)               2.22   0.153153  0.323810      0.207951   \n",
       "(82.77, 85.11)               2.34   0.174342  0.602273      0.270408   \n",
       "(25.7, 28.94)                3.24   0.061606  0.354430      0.104967   \n",
       "(60.74, 64.36)               3.62   0.109541  0.336957      0.165333   \n",
       "(103.64, 108.03)             4.39   0.263889  0.349693      0.300792   \n",
       "\n",
       "                     AUROC     AUPRC  \n",
       "Time Interval                         \n",
       "(213.53, 213.96)  0.645326  0.191947  \n",
       "(267.59, 268.42)  0.876715  0.446428  \n",
       "(30.31, 31.74)    0.662760  0.232177  \n",
       "(37.77, 39.22)    0.761768  0.340566  \n",
       "(167.19, 169.17)  0.700773  0.189756  \n",
       "(84.04, 86.26)    0.648036  0.164489  \n",
       "(82.77, 85.11)    0.849265  0.256944  \n",
       "(25.7, 28.94)     0.640108  0.067484  \n",
       "(60.74, 64.36)    0.699679  0.148501  \n",
       "(103.64, 108.03)  0.708941  0.246272  "
      ]
     },
     "execution_count": 500,
     "metadata": {},
     "output_type": "execute_result"
    }
   ],
   "source": [
    "df.sort_values(by=['Time Difference'])"
   ]
  },
  {
   "cell_type": "code",
   "execution_count": 472,
   "metadata": {},
   "outputs": [
    {
     "data": {
      "text/html": [
       "<div>\n",
       "<style scoped>\n",
       "    .dataframe tbody tr th:only-of-type {\n",
       "        vertical-align: middle;\n",
       "    }\n",
       "\n",
       "    .dataframe tbody tr th {\n",
       "        vertical-align: top;\n",
       "    }\n",
       "\n",
       "    .dataframe thead th {\n",
       "        text-align: right;\n",
       "    }\n",
       "</style>\n",
       "<table border=\"1\" class=\"dataframe\">\n",
       "  <thead>\n",
       "    <tr style=\"text-align: right;\">\n",
       "      <th></th>\n",
       "      <th>Time Difference</th>\n",
       "      <th>Precision</th>\n",
       "      <th>Recall</th>\n",
       "      <th>F_Beta_Score</th>\n",
       "      <th>AUROC</th>\n",
       "      <th>AUPRC</th>\n",
       "    </tr>\n",
       "    <tr>\n",
       "      <th>Time Interval</th>\n",
       "      <th></th>\n",
       "      <th></th>\n",
       "      <th></th>\n",
       "      <th></th>\n",
       "      <th></th>\n",
       "      <th></th>\n",
       "    </tr>\n",
       "  </thead>\n",
       "  <tbody>\n",
       "    <tr>\n",
       "      <th>(170.96, 171.27)</th>\n",
       "      <td>0.31</td>\n",
       "      <td>0.500000</td>\n",
       "      <td>0.380952</td>\n",
       "      <td>0.432432</td>\n",
       "      <td>0.842177</td>\n",
       "      <td>0.657945</td>\n",
       "    </tr>\n",
       "    <tr>\n",
       "      <th>(103.11, 104.08)</th>\n",
       "      <td>0.97</td>\n",
       "      <td>0.313253</td>\n",
       "      <td>0.400000</td>\n",
       "      <td>0.351351</td>\n",
       "      <td>0.702470</td>\n",
       "      <td>0.334834</td>\n",
       "    </tr>\n",
       "    <tr>\n",
       "      <th>(136.5, 137.84)</th>\n",
       "      <td>1.34</td>\n",
       "      <td>0.258883</td>\n",
       "      <td>0.520408</td>\n",
       "      <td>0.345763</td>\n",
       "      <td>0.759423</td>\n",
       "      <td>0.300815</td>\n",
       "    </tr>\n",
       "    <tr>\n",
       "      <th>(274.45, 276.22)</th>\n",
       "      <td>1.77</td>\n",
       "      <td>0.269231</td>\n",
       "      <td>0.418803</td>\n",
       "      <td>0.327759</td>\n",
       "      <td>0.673133</td>\n",
       "      <td>0.264119</td>\n",
       "    </tr>\n",
       "    <tr>\n",
       "      <th>(113.66, 115.56)</th>\n",
       "      <td>1.90</td>\n",
       "      <td>0.500000</td>\n",
       "      <td>0.462810</td>\n",
       "      <td>0.480687</td>\n",
       "      <td>0.771978</td>\n",
       "      <td>0.425371</td>\n",
       "    </tr>\n",
       "    <tr>\n",
       "      <th>(23.56, 25.55)</th>\n",
       "      <td>1.99</td>\n",
       "      <td>0.321569</td>\n",
       "      <td>0.496970</td>\n",
       "      <td>0.390476</td>\n",
       "      <td>0.803893</td>\n",
       "      <td>0.370009</td>\n",
       "    </tr>\n",
       "    <tr>\n",
       "      <th>(202.73, 205.14)</th>\n",
       "      <td>2.41</td>\n",
       "      <td>0.333333</td>\n",
       "      <td>0.418919</td>\n",
       "      <td>0.371257</td>\n",
       "      <td>0.698759</td>\n",
       "      <td>0.363630</td>\n",
       "    </tr>\n",
       "    <tr>\n",
       "      <th>(209.58, 212.82)</th>\n",
       "      <td>3.24</td>\n",
       "      <td>0.157810</td>\n",
       "      <td>0.328859</td>\n",
       "      <td>0.213275</td>\n",
       "      <td>0.588415</td>\n",
       "      <td>0.190515</td>\n",
       "    </tr>\n",
       "    <tr>\n",
       "      <th>(102.96, 106.56)</th>\n",
       "      <td>3.60</td>\n",
       "      <td>0.271154</td>\n",
       "      <td>0.417160</td>\n",
       "      <td>0.328671</td>\n",
       "      <td>0.752272</td>\n",
       "      <td>0.296945</td>\n",
       "    </tr>\n",
       "    <tr>\n",
       "      <th>(85.61, 89.92)</th>\n",
       "      <td>4.31</td>\n",
       "      <td>0.170213</td>\n",
       "      <td>0.365714</td>\n",
       "      <td>0.232305</td>\n",
       "      <td>0.667892</td>\n",
       "      <td>0.174909</td>\n",
       "    </tr>\n",
       "  </tbody>\n",
       "</table>\n",
       "</div>"
      ],
      "text/plain": [
       "                  Time Difference  Precision    Recall  F_Beta_Score  \\\n",
       "Time Interval                                                          \n",
       "(170.96, 171.27)             0.31   0.500000  0.380952      0.432432   \n",
       "(103.11, 104.08)             0.97   0.313253  0.400000      0.351351   \n",
       "(136.5, 137.84)              1.34   0.258883  0.520408      0.345763   \n",
       "(274.45, 276.22)             1.77   0.269231  0.418803      0.327759   \n",
       "(113.66, 115.56)             1.90   0.500000  0.462810      0.480687   \n",
       "(23.56, 25.55)               1.99   0.321569  0.496970      0.390476   \n",
       "(202.73, 205.14)             2.41   0.333333  0.418919      0.371257   \n",
       "(209.58, 212.82)             3.24   0.157810  0.328859      0.213275   \n",
       "(102.96, 106.56)             3.60   0.271154  0.417160      0.328671   \n",
       "(85.61, 89.92)               4.31   0.170213  0.365714      0.232305   \n",
       "\n",
       "                     AUROC     AUPRC  \n",
       "Time Interval                         \n",
       "(170.96, 171.27)  0.842177  0.657945  \n",
       "(103.11, 104.08)  0.702470  0.334834  \n",
       "(136.5, 137.84)   0.759423  0.300815  \n",
       "(274.45, 276.22)  0.673133  0.264119  \n",
       "(113.66, 115.56)  0.771978  0.425371  \n",
       "(23.56, 25.55)    0.803893  0.370009  \n",
       "(202.73, 205.14)  0.698759  0.363630  \n",
       "(209.58, 212.82)  0.588415  0.190515  \n",
       "(102.96, 106.56)  0.752272  0.296945  \n",
       "(85.61, 89.92)    0.667892  0.174909  "
      ]
     },
     "execution_count": 472,
     "metadata": {},
     "output_type": "execute_result"
    }
   ],
   "source": [
    "df = dataframes_by_gamme[32]\n",
    "df.sort_values(by=['Time Difference'])"
   ]
  },
  {
   "cell_type": "code",
   "execution_count": 219,
   "metadata": {},
   "outputs": [],
   "source": [
    "def example_analysis(u, v, mfcc_feature, rhyming_pair, aligned_phone_seq, aligned_timestamp, func, hop_len):\n",
    "    step = hop_len / 44100\n",
    "    \n",
    "    start_time = aligned_timestamp[u]\n",
    "    end_time = aligned_timestamp[v]\n",
    "#     print('start time', start_time)\n",
    "#     print('end time', end_time)\n",
    "\n",
    "    start_frame = math.floor(start_time / step)\n",
    "    end_frame = math.floor(end_time / step) + 1\n",
    "    frame_num = end_frame - start_frame\n",
    "\n",
    "    time = np.arange(start_time, end_time, step)\n",
    "\n",
    "    if len(time) + 1 == end_frame - start_frame:\n",
    "        time = np.append(time, time[-1] + step)\n",
    "\n",
    "    sub_mfcc = mfcc_feature[:,start_frame:end_frame]\n",
    "\n",
    "    distance_matrix = sci.spatial.distance.cdist(sub_mfcc.T, sub_mfcc.T, metric='seuclidean')\n",
    "    # print(distance_matrix.shape)\n",
    "\n",
    "    # gaussian kernel\n",
    "    sub_mfcc_ssm = np.exp(-distance_matrix ** 2 / 2 ** 5)\n",
    "\n",
    "#     plot_matrix(sub_mfcc_ssm)\n",
    "\n",
    "    interpolated_phone_seq = func(time)\n",
    "\n",
    "    interpolated_ssm = compute_SM_dot(interpolated_phone_seq, interpolated_phone_seq)\n",
    "#     plot_interpolated_matrix(interpolated_ssm)\n",
    "    \n",
    "    # get the corresponding valid indices and compute the evaluation metrics\n",
    "    indices = get_valid_indices(interpolated_ssm)\n",
    "    rows = np.array([p[0] for p in indices])\n",
    "    cols = np.array([p[1] for p in indices])\n",
    "    \n",
    "    \n",
    "    data = {}\n",
    "    \n",
    "    if len(rows) and len(cols):\n",
    "            y_labels = interpolated_ssm[rows, cols].astype(int)\n",
    "            y_scores = sub_mfcc_ssm[rows, cols]\n",
    "\n",
    "            auroc = plot_roc_curve(y_labels, y_scores)\n",
    "            precision, recall, f_beta_score, support = sklearn.metrics.precision_recall_fscore_support(y_labels, threshold(y_scores), pos_label=1, average='binary')\n",
    "            auprc = plot_pr_curve(y_labels, y_scores)\n",
    "            \n",
    "            data['Precision'] = [precision]\n",
    "            data['Recall'] = [recall]\n",
    "            data['F_Beta_Score'] = [f_beta_score]\n",
    "            data['AUROC'] = [auroc]\n",
    "            data['AUPRC'] = [auprc]\n",
    "            \n",
    "            df = pd.DataFrame(data=data)\n",
    "            \n",
    "            return df"
   ]
  },
  {
   "cell_type": "code",
   "execution_count": null,
   "metadata": {},
   "outputs": [],
   "source": []
  },
  {
   "cell_type": "code",
   "execution_count": 220,
   "metadata": {},
   "outputs": [
    {
     "data": {
      "image/png": "[encoded data removed]",
      "text/plain": [
       "<Figure size 1440x864 with 1 Axes>"
      ]
     },
     "metadata": {},
     "output_type": "display_data"
    }
   ],
   "source": [
    "df = example_analysis(3922, 4033, mfcc_feature, rhyming_pair, aligned_phone_seq, aligned_timestamp, func, 1024)"
   ]
  },
  {
   "cell_type": "code",
   "execution_count": null,
   "metadata": {},
   "outputs": [],
   "source": []
  }
 ],
 "metadata": {
  "kernelspec": {
   "display_name": "Python 3",
   "language": "python",
   "name": "python3"
  },
  "language_info": {
   "codemirror_mode": {
    "name": "ipython",
    "version": 3
   },
   "file_extension": ".py",
   "mimetype": "text/x-python",
   "name": "python",
   "nbconvert_exporter": "python",
   "pygments_lexer": "ipython3",
   "version": "3.7.1"
  },
  "toc-showtags": false
 },
 "nbformat": 4,
 "nbformat_minor": 2
}
