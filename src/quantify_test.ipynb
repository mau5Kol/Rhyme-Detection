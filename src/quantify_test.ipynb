{
 "cells": [
  {
   "cell_type": "code",
   "execution_count": 131,
   "metadata": {},
   "outputs": [],
   "source": [
    "import numpy as np\n",
    "import math\n",
    "import scipy as sci\n",
    "import matplotlib\n",
    "import seaborn as sns\n",
    "import matplotlib.pyplot as plt\n",
    "import json\n",
    "import pandas as pd\n",
    "import librosa\n",
    "from librosa import display\n",
    "import IPython\n",
    "import collections\n",
    "import jams\n",
    "import string\n",
    "import re\n",
    "import sklearn \n",
    "from sklearn import preprocessing\n",
    "from sklearn import metrics"
   ]
  },
  {
   "cell_type": "code",
   "execution_count": 132,
   "metadata": {},
   "outputs": [
    {
     "ename": "NameError",
     "evalue": "name 'sr' is not defined",
     "output_type": "error",
     "traceback": [
      "\u001b[0;31m---------------------------------------------------------------------------\u001b[0m",
      "\u001b[0;31mNameError\u001b[0m                                 Traceback (most recent call last)",
      "\u001b[0;32m<ipython-input-132-9a7b27559181>\u001b[0m in \u001b[0;36m<module>\u001b[0;34m\u001b[0m\n\u001b[1;32m      1\u001b[0m \u001b[0;31m# track tempo estimate\u001b[0m\u001b[0;34m\u001b[0m\u001b[0;34m\u001b[0m\u001b[0;34m\u001b[0m\u001b[0m\n\u001b[0;32m----> 2\u001b[0;31m \u001b[0mtempo\u001b[0m\u001b[0;34m,\u001b[0m \u001b[0mbeats\u001b[0m \u001b[0;34m=\u001b[0m \u001b[0mlibrosa\u001b[0m\u001b[0;34m.\u001b[0m\u001b[0mbeat\u001b[0m\u001b[0;34m.\u001b[0m\u001b[0mbeat_track\u001b[0m\u001b[0;34m(\u001b[0m\u001b[0my\u001b[0m\u001b[0;34m=\u001b[0m\u001b[0my\u001b[0m\u001b[0;34m,\u001b[0m \u001b[0msr\u001b[0m\u001b[0;34m=\u001b[0m\u001b[0msr\u001b[0m\u001b[0;34m)\u001b[0m\u001b[0;34m\u001b[0m\u001b[0;34m\u001b[0m\u001b[0m\n\u001b[0m",
      "\u001b[0;31mNameError\u001b[0m: name 'sr' is not defined"
     ]
    }
   ],
   "source": [
    "# track tempo estimate\n",
    "tempo, beats = librosa.beat.beat_track(y=y, sr=sr)"
   ]
  },
  {
   "cell_type": "code",
   "execution_count": 133,
   "metadata": {},
   "outputs": [],
   "source": [
    "import itertools\n",
    "def head(dict_, n):\n",
    "    return dict(itertools.islice(dict_.items(), n))"
   ]
  },
  {
   "cell_type": "code",
   "execution_count": 134,
   "metadata": {},
   "outputs": [],
   "source": [
    "def exportJAM(sound_file, fail_dict, out_file):\n",
    "    # Construct a new JAMS object and new annotation records\n",
    "    jam = jams.JAMS()\n",
    "    \n",
    "    # Get the file metadata\n",
    "    title = sound_file.split('/')[3].split('.')[0]\n",
    "    artist = sound_file.split('/')[2].split('_')[0]\n",
    "    release = sound_file.split('/')[2].split('_')[2]\n",
    "    \n",
    "    # Load the audio file\n",
    "    y, sr = librosa.load(sound_file)\n",
    "\n",
    "    # Get the track duration\n",
    "    track_duration = librosa.get_duration(y=y, sr=sr)\n",
    "    track_duration = '%.2f' % (float(track_duration))\n",
    "    \n",
    "    jam.file_metadata.duration = float(track_duration)\n",
    "    jam.file_metadata.title = title\n",
    "    jam.file_metadata.artist = artist\n",
    "    jam.file_metadata.release = release\n",
    "    \n",
    "    fail_lyrics = jams.Annotation(namespace='lyrics', time=0) # what does time mean in this context?\n",
    "    fail_lyrics.annotation_metadata = jams.AnnotationMetadata(data_source='Collecive Rap Datasets')\n",
    "    \n",
    "    for failling in fail_dict:\n",
    "        interval = list(failling.keys())[0].split('-')\n",
    "        start_time = float(interval[0])\n",
    "        duration = float(interval[1]) - float(interval[0])\n",
    "        duration = float('%.2f' % duration)\n",
    "        \n",
    "        fail_words = ''\n",
    "        for f_word in list(failling.values())[0]:\n",
    "            fail_words += f_word[0] + ' '\n",
    "        \n",
    "        fail_words = fail_words.rstrip()\n",
    "        fail_lyrics.append(time=start_time, duration=duration, value=fail_words)\n",
    "    \n",
    "    jam.annotations.append(fail_lyrics)\n",
    "    jam.save(out_file)"
   ]
  },
  {
   "cell_type": "code",
   "execution_count": 135,
   "metadata": {},
   "outputs": [
    {
     "ename": "NameError",
     "evalue": "name 'sound_file' is not defined",
     "output_type": "error",
     "traceback": [
      "\u001b[0;31m---------------------------------------------------------------------------\u001b[0m",
      "\u001b[0;31mNameError\u001b[0m                                 Traceback (most recent call last)",
      "\u001b[0;32m<ipython-input-135-434cfa86c475>\u001b[0m in \u001b[0;36m<module>\u001b[0;34m\u001b[0m\n\u001b[0;32m----> 1\u001b[0;31m \u001b[0mexportJAM\u001b[0m\u001b[0;34m(\u001b[0m\u001b[0msound_file\u001b[0m\u001b[0;34m,\u001b[0m \u001b[0mfail_dict\u001b[0m\u001b[0;34m,\u001b[0m \u001b[0mout_file\u001b[0m\u001b[0;34m=\u001b[0m\u001b[0;34m\"test.jams\"\u001b[0m\u001b[0;34m)\u001b[0m\u001b[0;34m\u001b[0m\u001b[0;34m\u001b[0m\u001b[0m\n\u001b[0m",
      "\u001b[0;31mNameError\u001b[0m: name 'sound_file' is not defined"
     ]
    }
   ],
   "source": [
    "exportJAM(sound_file, fail_dict, out_file=\"test.jams\")"
   ]
  },
  {
   "cell_type": "code",
   "execution_count": 136,
   "metadata": {},
   "outputs": [],
   "source": [
    "# visualization with fail nums\n",
    "# keys = []\n",
    "# nums = []\n",
    "# fail_num_lst = fail_nums[:]\n",
    "# for f in fail_num_lst:\n",
    "#     key = f[0]\n",
    "#     num = f[1]\n",
    "#     keys.append(key)\n",
    "#     nums.append(num)"
   ]
  },
  {
   "cell_type": "code",
   "execution_count": 137,
   "metadata": {},
   "outputs": [],
   "source": [
    "# x = np.arange(len(nums))\n",
    "# plt.figure(figsize=(25,15))\n",
    "# plt.bar(x, height=nums)\n",
    "# plt.xlabel('Words failed to be aligned', fontsize=25)\n",
    "# locs, labels = plt.xticks(x, keys, rotation=90, fontsize= 20)"
   ]
  },
  {
   "cell_type": "code",
   "execution_count": 138,
   "metadata": {},
   "outputs": [],
   "source": [
    "# Record the numbers of failling phonemes, try to visualize them (together with the <unk>)\n",
    "\n",
    "# fail_phoneme_num = {}\n",
    "# for k in keys:\n",
    "#     if k in phoneme_dict:\n",
    "#         for pho in phoneme_dict[k]:\n",
    "#             if pho in fail_phoneme_num:\n",
    "#                 fail_phoneme_num[pho] += 1\n",
    "#             else:\n",
    "#                 fail_phoneme_num[pho] = 1\n",
    "#     else:\n",
    "#         unknown = '<unk>'\n",
    "#         if unknown in fail_phoneme_num:\n",
    "#                 fail_phoneme_num[unknown] += 1\n",
    "#         else:\n",
    "#             fail_phoneme_num[unknown] = 1"
   ]
  },
  {
   "cell_type": "code",
   "execution_count": 139,
   "metadata": {},
   "outputs": [],
   "source": [
    "# fail_phonemes_sorted = sorted(fail_phoneme_num.items(), key=lambda kv: kv[1], reverse=True)"
   ]
  },
  {
   "cell_type": "code",
   "execution_count": 140,
   "metadata": {},
   "outputs": [],
   "source": [
    "# fail_phonemes = [v[0] for v in fail_phonemes_sorted]\n",
    "# fail_phonemes_count = [v[1] for v in fail_phonemes_sorted]"
   ]
  },
  {
   "cell_type": "code",
   "execution_count": 141,
   "metadata": {},
   "outputs": [],
   "source": [
    "# plot the failed phonemes\n",
    "# x = np.arange(len(fail_phonemes))\n",
    "# plt.figure(figsize=(25,15))\n",
    "# plt.bar(x, height=fail_phonemes_count)\n",
    "# plt.xlabel('Phonemes failed to be aligned', fontsize=25)\n",
    "# locs, labels = plt.xticks(x, fail_phonemes, rotation=90, fontsize= 20)"
   ]
  },
  {
   "cell_type": "code",
   "execution_count": 142,
   "metadata": {},
   "outputs": [],
   "source": [
    "# 模块化\n",
    "# Goal: to see how well the alginment tool works"
   ]
  },
  {
   "cell_type": "code",
   "execution_count": 143,
   "metadata": {},
   "outputs": [],
   "source": [
    "import os\n",
    "from os import walk"
   ]
  },
  {
   "cell_type": "code",
   "execution_count": 144,
   "metadata": {},
   "outputs": [],
   "source": [
    "# helper function for reading phoneme dictionaries\n",
    "def phoneme_dict_reader(phoneme_dict_file):\n",
    "    with open(phoneme_dict_file, 'r') as reader:\n",
    "        lines = reader.readlines()\n",
    "    \n",
    "    phoneme_dict = dict()\n",
    "    # extract each individual phoneme\n",
    "    for line in lines:\n",
    "        line = line.split()\n",
    "        phoneme_dict[line[0].lower()] = line[1:]\n",
    "        \n",
    "    return phoneme_dict\n",
    "\n",
    "# test\n",
    "res = phoneme_dict_reader('cmudict.txt')\n",
    "\n",
    "\n",
    "# construct the phoneme set \n",
    "phone_set = set()\n",
    "for phonemes in res.values():\n",
    "    for phone in phonemes:\n",
    "        phone_set.add(phone.upper())"
   ]
  },
  {
   "cell_type": "code",
   "execution_count": 145,
   "metadata": {},
   "outputs": [],
   "source": [
    "# 1. 构造compute_fail_num函数 (focus on word level)\n",
    "def compute_fail_nums(path, errorRate_over_tracks):\n",
    "    \n",
    "    # get the track_name\n",
    "    # find '/'\n",
    "    start_idx = path.find('/', 8)\n",
    "    track_name = path[start_idx + 1:-4] # corresponding to specific path format\n",
    "    \n",
    "    # read the aligned file\n",
    "    with open(path, 'r') as reader:\n",
    "    #     lines = reader.readlines()\n",
    "        aligned_lines = json.load(reader)\n",
    "        \n",
    "    # compute\n",
    "    # trascript\n",
    "    transcript = aligned_lines['transcript']\n",
    "    words = aligned_lines['words']\n",
    "    \n",
    "    case = 'case'\n",
    "    fails = [words[i] for i in range(len(words)) if words[i][case] == 'not-found-in-audio']\n",
    "    \n",
    "    # 这里的话就是一个初筛\n",
    "    fail_ratio = len(fails) / len(words)\n",
    "    errorRate_over_tracks[track_name] = '{:.2%}'.format(fail_ratio)"
   ]
  },
  {
   "cell_type": "code",
   "execution_count": 146,
   "metadata": {},
   "outputs": [],
   "source": [
    "def compute_aggregate(path, errorRate_over_tracks):\n",
    "    # test on 5 algined files\n",
    "    folder_prefix = path\n",
    "    \n",
    "    # get all the folders\n",
    "    dirs = [d for d in os.listdir(folder_prefix) if os.path.isdir(folder_prefix + d) and d != '.ipynb_checkpoints']\n",
    "    \n",
    "    album_paths = []\n",
    "    for album in dirs:\n",
    "        album_paths.append(folder_prefix + album)\n",
    "        \n",
    "    for album_path in album_paths:\n",
    "        aligned_files = [album_path + '/' + f for f in os.listdir(album_path) if os.path.isfile(album_path + '/' + f) and f.startswith('.DS') == False]\n",
    "        for aligned_file in aligned_files:\n",
    "            compute_fail_nums(aligned_file, errorRate_over_tracks)\n",
    "\n",
    "    # sort the error rate based on error rate\n",
    "    errorRate_over_tracks_sorted = sorted(errorRate_over_tracks.items(), key=lambda kv: float(kv[1].strip('%'))/100)\n",
    "    \n",
    "    # according to the threshold, select some workable tracks\n",
    "    filtered_tracks = list(filter(select_tracks, errorRate_over_tracks_sorted))\n",
    "    \n",
    "    return filtered_tracks"
   ]
  },
  {
   "cell_type": "code",
   "execution_count": 147,
   "metadata": {},
   "outputs": [],
   "source": [
    "def select_tracks(track):\n",
    "    if float(track[1].strip('%')) / 100 < 0.18:  # 0.18 as threshold\n",
    "        return True\n",
    "    else:\n",
    "        return False"
   ]
  },
  {
   "cell_type": "code",
   "execution_count": 148,
   "metadata": {},
   "outputs": [],
   "source": [
    "# collection info of error rate for each tracks\n",
    "errorRate_over_tracks = {}"
   ]
  },
  {
   "cell_type": "code",
   "execution_count": 149,
   "metadata": {},
   "outputs": [
    {
     "data": {
      "text/plain": [
       "[('Criminal/sponsor_aligned', '1.51%'), ('Criminal/9mm_aligned', '6.82%')]"
      ]
     },
     "execution_count": 149,
     "metadata": {},
     "output_type": "execute_result"
    }
   ],
   "source": [
    "compute_aggregate('data/aligned/', errorRate_over_tracks)"
   ]
  },
  {
   "cell_type": "code",
   "execution_count": 187,
   "metadata": {},
   "outputs": [],
   "source": [
    "def compute_phone_timestamp(TYPE, aligned_phones, start_time, durations, phonemes, resolution):\n",
    "    '''\n",
    "        Returns a list the phonemes while keeping track of the start time of each phoneme\n",
    "    '''\n",
    "    \n",
    "    precision = 0.001\n",
    "    \n",
    "    if TYPE == 'full':\n",
    "    \n",
    "        n = min(len(durations), len(phonemes))\n",
    "\n",
    "        s = round(start_time, 3)\n",
    "        aligned_phones[round(s - precision, 3)] = 'START'\n",
    "        aligned_phones[s] = phonemes[0]\n",
    "\n",
    "\n",
    "        for i in range(n - 1):\n",
    "            # take care of the round off error\n",
    "            next_s = round(start_time + durations[i], 3)\n",
    "            aligned_phones[round(next_s - precision, 3)] = phonemes[i]\n",
    "            aligned_phones[next_s] = phonemes[i + 1]\n",
    "            start_time += durations[i]\n",
    "        \n",
    "        \n",
    "        e = round(start_time + durations[-1], 3)\n",
    "        aligned_phones[round(e - precision, 3)] = phonemes[n - 1]\n",
    "        aligned_phones[e] = 'END'\n",
    "        \n",
    "    elif TYPE == 'half':\n",
    "        \n",
    "        time_interval = round(durations[0] - start_time, 3)\n",
    "        \n",
    "        n = len(phonemes)\n",
    "\n",
    "        step = time_interval / n\n",
    "        \n",
    "        if time_interval < resolution or phonemes == ['UNK']:\n",
    "            s = round(start_time, 3)\n",
    "            e = round(durations[0], 3)\n",
    "            aligned_phones[s] = 'UNK'\n",
    "            aligned_phones[e] = 'UNK'\n",
    "        else:  \n",
    "            s = round(start_time, 3)\n",
    "            aligned_phones[round(s - precision, 3)] = 'START'\n",
    "            aligned_phones[s] = phonemes[0]\n",
    "\n",
    "            for i in range(1, n):\n",
    "                # take care of the round off error\n",
    "                next_s = round(start_time + step, 3)\n",
    "                aligned_phones[round(next_s - precision, 3)] = phonemes[i - 1]\n",
    "                aligned_phones[next_s] = phonemes[i]\n",
    "                start_time += step\n",
    "            \n",
    "            e = round(start_time + step, 3)\n",
    "            aligned_phones[round(e - precision, 3)] = phonemes[n - 1]\n",
    "            aligned_phones[e] = 'END'\n",
    "            \n",
    "    elif TYPE == 'not-found':\n",
    "        \n",
    "        s = round(start_time, 3)\n",
    "        e = round(durations[0], 3)\n",
    "        \n",
    "        aligned_phones[s] = 'UNK'\n",
    "        aligned_phones[e] = 'UNK'"
   ]
  },
  {
   "cell_type": "code",
   "execution_count": 188,
   "metadata": {},
   "outputs": [],
   "source": [
    "# specify some necessary parameters\n",
    "hop_len = 1024\n",
    "win_len = 2048\n",
    "resolution = hop_len / 44100"
   ]
  },
  {
   "cell_type": "code",
   "execution_count": 189,
   "metadata": {},
   "outputs": [
    {
     "data": {
      "text/plain": [
       "{25.969: 'START',\n",
       " 25.97: 'JH',\n",
       " 26.059: 'JH',\n",
       " 26.06: 'AA1',\n",
       " 26.179: 'AA1',\n",
       " 26.18: 'B',\n",
       " 26.279: 'B',\n",
       " 26.28: 'END'}"
      ]
     },
     "execution_count": 189,
     "metadata": {},
     "output_type": "execute_result"
    }
   ],
   "source": [
    "# test\n",
    "phoneme_dict = phoneme_dict_reader('cmudict.txt')\n",
    "aligned_phones = dict()\n",
    "start_time = 25.97\n",
    "durations = [0.09, 0.12, 0.1]\n",
    "phonemes = phoneme_dict['job']\n",
    "compute_phone_timestamp('full', aligned_phones, start_time, durations, phonemes, resolution)\n",
    "aligned_phones"
   ]
  },
  {
   "cell_type": "code",
   "execution_count": 225,
   "metadata": {},
   "outputs": [],
   "source": [
    "def get_aligned_track(path, aligned_track_phones, aligned_track_words, misalligned_track_words):\n",
    "    '''\n",
    "        Get the aligned track information together with misalligned information\n",
    "    '''\n",
    "    # find '/'\n",
    "    start_idx = path.find('/', 8)\n",
    "    track_name = path[start_idx + 1:-4] # corresponding to specific path format\n",
    "    \n",
    "    # read the aligned file\n",
    "    with open(path, 'r') as reader:\n",
    "    #     lines = reader.readlines()\n",
    "        aligned_lines = json.load(reader)\n",
    "        \n",
    "    # compute\n",
    "    # trascript\n",
    "    transcript = aligned_lines['transcript']\n",
    "    words = aligned_lines['words']\n",
    "    case = 'case'\n",
    "    \n",
    "    aligned_track_words[track_name] = dict()\n",
    "    misalligned_track_words[track_name] = dict()\n",
    "    aligned_track_phones[track_name] = dict()\n",
    "    aligned_track_phones[track_name][0.0] = 'START'\n",
    "\n",
    "    phoneme_dict = phoneme_dict_reader('cmudict.txt')\n",
    "    \n",
    "    # compute alignment info and mis-aligned info\n",
    "    start_word = 'start'\n",
    "    fail_interval = ''\n",
    "    fail_words = []\n",
    "    flag = True\n",
    "    for i in range(len(words)):\n",
    "        word = words[i]\n",
    "        case = word['case']\n",
    "        if case == 'success':\n",
    "            # need to compute the misalignment first\n",
    "            if not flag:\n",
    "                fail_interval += '%.2f' % (word['start'])\n",
    "                flag = True\n",
    "                misalligned_track_words[track_name][fail_interval] = fail_words\n",
    "                aligned_track_words[track_name][fail_interval] = fail_words\n",
    "                found = fail_interval.find('-')\n",
    "                fail_start = float(fail_interval[:found])\n",
    "                fail_end = float(fail_interval[found+1:])\n",
    "                # for words not get aligned, we label it as unknown\n",
    "                compute_phone_timestamp('not-found', aligned_track_phones[track_name], fail_start, [fail_end], ['UNK'], resolution)\n",
    "                fail_interval = ''\n",
    "                fail_words = []\n",
    "            \n",
    "            # for computing successfully aligned words\n",
    "            success_start_time = word['start']\n",
    "            success_start = '%.2f' % word['start']\n",
    "            success_end_time = word['end']\n",
    "#             success_time_interval = '%.2f' % (success_start) + '-' + '%.2f' % (success_end)\n",
    "            aligned_track_words[track_name][success_start] = []\n",
    "\n",
    "            aligned_word = word['alignedWord']\n",
    "            # if the aligned word is recorded, then we need to keep track of the start time of each phoneme, \n",
    "            # otherwise we just do the uniform interpolation\n",
    "            if aligned_word == '<unk>':\n",
    "                w = word['word']\n",
    "                if w.lower() in phoneme_dict:\n",
    "                    phonemes = phoneme_dict[w.lower()]\n",
    "                else:\n",
    "                    phonemes = ['UNK']\n",
    "                aligned_track_words[track_name][success_start].append((w, phonemes))\n",
    "                compute_phone_timestamp('half', aligned_track_phones[track_name], success_start_time, [success_end_time], phonemes, resolution)\n",
    "                \n",
    "            else:\n",
    "                phones = word['phones']\n",
    "                durations = [p['duration'] for p in phones]\n",
    "                phonemes = phoneme_dict[aligned_word.lower()]\n",
    "                compute_phone_timestamp('full', aligned_track_phones[track_name], success_start_time, durations, phonemes, resolution)\n",
    "                aligned_track_words[track_name][success_start].append((aligned_word, phonemes))\n",
    "        \n",
    "        elif case == 'not-found-in-audio':\n",
    "            if flag and not i: # if the first word is not successfully aligned, then the start time will be 'start'\n",
    "                fail_interval += 'start-'\n",
    "            elif flag and i:\n",
    "                fail_interval += '%.2f' % (words[i - 1]['end']) + '-'\n",
    "#                 fail_start += '%.2f' % (words[i - 1]['end'])\n",
    "            flag = False\n",
    "            fail_word = word['word']\n",
    "            if fail_word.lower() in phoneme_dict:\n",
    "                fw, fail_phonemes = fail_word, phoneme_dict[fail_word.lower()]\n",
    "            else:\n",
    "                fw, fail_phonemes = fail_word, ['UNK']\n",
    "            fail_words += [(fw, fail_phonemes)]\n",
    "    \n",
    "    \n",
    "#     # tail case if the last several alignments are incorrect and never met 'succuess'\n",
    "    if fail_words and case != 'success':\n",
    "#         fail_interval += 'end'\n",
    "        flag = True\n",
    "        misalligned_track_words[track_name][fail_start] = fail_words\n",
    "        fail_interval = ''\n",
    "        fail_words = []\n",
    "        \n",
    "#     # miss alignment statistics\n",
    "#     for vals in fail_dict.values():\n",
    "#         for val in vals:\n",
    "#             word = val.lower()\n",
    "#             fail_nums[word] = fail_nums.get(word, 0) + 1\n",
    "    "
   ]
  },
  {
   "cell_type": "code",
   "execution_count": 226,
   "metadata": {},
   "outputs": [],
   "source": [
    "# test for get phoeneme sequence\n",
    "path = 'data/aligned/Criminal/sponsor_aligned.txt'\n",
    "aligned_track_info = {} # including phonemes that are corrected\n",
    "misaligned_track_info = {}\n",
    "aligned_track_phones = {}\n",
    "get_aligned_track(path, aligned_track_phones, aligned_track_info, misaligned_track_info)"
   ]
  },
  {
   "cell_type": "code",
   "execution_count": 228,
   "metadata": {},
   "outputs": [],
   "source": [
    "# aligned_track_info\n",
    "# aligned_track_phones\n",
    "# misaligned_track_info"
   ]
  },
  {
   "cell_type": "code",
   "execution_count": 229,
   "metadata": {},
   "outputs": [],
   "source": [
    "def get_syllable_sequences(aligned_track_phonemes):\n",
    "    '''\n",
    "    Returns a sequence of syllables for each aligned word\n",
    "    '''\n",
    "    track_aligned_syllables = dict()\n",
    "    for track_name, aligned_sequence in aligned_track_phonemes.items():\n",
    "        track_aligned_syllables[track_name] = dict()\n",
    "        for time_stamp, word_sequences in aligned_sequence.items():\n",
    "            syllable_sequences = []\n",
    "            track_aligned_syllables[track_name][time_stamp] = []\n",
    "            for word_phone_pair in word_sequences:\n",
    "                last_syllable = get_last_syllable(word_phone_pair)\n",
    "                syllable_sequences.append(last_syllable)\n",
    "                track_aligned_syllables[track_name][time_stamp].append((word_phone_pair[0], last_syllable))\n",
    "        \n",
    "    return track_aligned_syllables"
   ]
  },
  {
   "cell_type": "code",
   "execution_count": 230,
   "metadata": {},
   "outputs": [],
   "source": [
    "def get_last_syllable(word_phone_pair):\n",
    "    '''\n",
    "        Returns the last syllable of a word\n",
    "    ''' \n",
    "    import re\n",
    "    \n",
    "    last_syllable = ''\n",
    "    phonemes = word_phone_pair[1]\n",
    "    for phone in phonemes:\n",
    "            if re.sub(r'\\d', '', phone) in VOWELS:\n",
    "                last_syllable = ''\n",
    "            last_syllable += phone\n",
    "    return last_syllable"
   ]
  },
  {
   "cell_type": "code",
   "execution_count": 231,
   "metadata": {},
   "outputs": [],
   "source": [
    "def get_phone_type(phone_set):\n",
    "    '''\n",
    "    Returns the phone type for a given track\n",
    "    '''\n",
    "    VOWELS = ['AA', 'AE', 'AH', 'AO', 'AW', 'AX', 'AY', 'EH', 'ER', 'EY', 'OW', 'OY', 'IH', 'IY', 'IX', 'UW', 'UX', 'UH']\n",
    "    phone_type = collections.defaultdict(set)\n",
    "    for phone in phone_set:\n",
    "        phone = phone.upper()\n",
    "        # edge case\n",
    "        if phone == 'AH)':\n",
    "            phone = 'AH'\n",
    "        # ignore the stress label    \n",
    "        phone = re.sub('\\d|\\W', '', phone)\n",
    "        if phone in VOWELS:\n",
    "            phone_type['VOWEL'].add(phone)\n",
    "        else:\n",
    "            phone_type['CONSONANT'].add(phone)\n",
    "\n",
    "    return phone_type\n",
    "\n",
    "# 这里可以做不同的experimentation(只考虑vowels vs 只考虑vowels/consonants, or 加不加stress label)\n",
    "phone_type = get_phone_type(phone_set)\n",
    "vowels = list(phone_type['VOWEL'])\n",
    "vowels.sort()\n",
    "consonants = list(phone_type['CONSONANT'])\n",
    "consonants.sort()\n",
    "phone_classes = vowels + consonants"
   ]
  },
  {
   "cell_type": "code",
   "execution_count": 232,
   "metadata": {},
   "outputs": [
    {
     "data": {
      "text/plain": [
       "42"
      ]
     },
     "execution_count": 232,
     "metadata": {},
     "output_type": "execute_result"
    }
   ],
   "source": [
    "len(phone_classes)"
   ]
  },
  {
   "cell_type": "code",
   "execution_count": 233,
   "metadata": {},
   "outputs": [],
   "source": [
    "def get_aligned_phone_seq(aligned_track_phones):\n",
    "    '''\n",
    "        Returns the aligned phoneme sequence for a given track together with the list of timestamps\n",
    "    '''\n",
    "    aligned_phone_seq = []\n",
    "    aligned_timestamp =[]\n",
    "    for path, time_phone_pair in aligned_track_phones.items():\n",
    "        time_phone_pair = [(u, v) for u, v in time_phone_pair.items()]\n",
    "        time_phone_pair.sort(key=lambda k: k[0])\n",
    "        for time_stamp, phone in time_phone_pair:\n",
    "            aligned_timestamp.append(time_stamp)\n",
    "            aligned_phone_seq.append(phone)\n",
    "    \n",
    "    return np.array(aligned_timestamp), np.array(aligned_phone_seq)"
   ]
  },
  {
   "cell_type": "code",
   "execution_count": 234,
   "metadata": {},
   "outputs": [],
   "source": [
    "def get_sampled_phone_seq(aligned_timestamp, aligned_phone_seq, sample_interval):\n",
    "    '''\n",
    "        Returns the sampled aligned sequence under given sample interval\n",
    "    '''\n",
    "    \n",
    "    \n",
    "    n = min(len(aligned_timestamp), len(aligned_phone_seq))\n",
    "    \n",
    "    sampled_phone_seq = []\n",
    "    sampled_timestamp = []\n",
    "    \n",
    "    for i in range(0, n, sample_interval):\n",
    "        sampled_phone_seq.append(aligned_phone_seq[i])\n",
    "        sampled_timestamp.append(aligned_timestamp[i])\n",
    "\n",
    "    \n",
    "    return np.array(sampled_timestamp), np.array(sampled_phone_seq)"
   ]
  },
  {
   "cell_type": "code",
   "execution_count": 235,
   "metadata": {},
   "outputs": [],
   "source": [
    "aligned_timestamp, aligned_phone_seq = get_aligned_phone_seq(aligned_track_phones)"
   ]
  },
  {
   "cell_type": "code",
   "execution_count": 236,
   "metadata": {},
   "outputs": [
    {
     "data": {
      "text/plain": [
       "array([  0.   ,   5.929,   5.93 , ..., 223.23 , 223.239, 223.24 ])"
      ]
     },
     "execution_count": 236,
     "metadata": {},
     "output_type": "execute_result"
    }
   ],
   "source": [
    "# aligned_phone_seq\n",
    "# aligned_timestamp"
   ]
  },
  {
   "cell_type": "code",
   "execution_count": 44,
   "metadata": {},
   "outputs": [],
   "source": [
    "# sampled_phone_seq\n",
    "# sampled_timestamp"
   ]
  },
  {
   "cell_type": "code",
   "execution_count": 204,
   "metadata": {},
   "outputs": [],
   "source": [
    "def get_phone_encoding(phone, phone_classes):\n",
    "    '''\n",
    "        Returns the phone encoding\n",
    "    '''\n",
    "    \n",
    "    if phone == 'UNK' or phone == 'START' or phone == 'END':\n",
    "        ohe_vector = np.array([np.nan for _ in range(len(phone_classes))])\n",
    "    else:\n",
    "        phone_vector = np.array(phone_classes)\n",
    "        ohe_vector = np.where(phone_vector == phone , 1, 0)\n",
    "    \n",
    "    return ohe_vector"
   ]
  },
  {
   "cell_type": "code",
   "execution_count": 46,
   "metadata": {},
   "outputs": [],
   "source": [
    "def compute_feature_matrix(phone_seq, phone_classes):\n",
    "    '''\n",
    "        Returns the feature matrix (using one-hot encoder from sklearn)\n",
    "    '''\n",
    "    \n",
    "    n = len(phone_seq)\n",
    "    size = len(phone_classes)\n",
    "    \n",
    "    \n",
    "    feature_matrix = None\n",
    "    count = 0\n",
    "    \n",
    "    for i in range(n):\n",
    "        phone = phone_seq[i]\n",
    "        # ignore the stress label \n",
    "        phone = re.sub('\\d|\\W', '', phone)\n",
    "        feature_vector = get_phone_encoding(phone, phone_classes)\n",
    "        if feature_matrix is None:\n",
    "            feature_matrix = feature_vector\n",
    "        else:\n",
    "            feature_matrix = np.vstack((feature_matrix, feature_vector))\n",
    "    \n",
    "    return feature_matrix.T"
   ]
  },
  {
   "cell_type": "code",
   "execution_count": 47,
   "metadata": {},
   "outputs": [
    {
     "data": {
      "text/plain": [
       "(42, 291)"
      ]
     },
     "execution_count": 47,
     "metadata": {},
     "output_type": "execute_result"
    }
   ],
   "source": [
    "fm = compute_feature_matrix(sampled_phone_seq, phone_classes)\n",
    "fm.shape"
   ]
  },
  {
   "cell_type": "code",
   "execution_count": 48,
   "metadata": {},
   "outputs": [],
   "source": [
    "def compute_SM_dot(X,Y):\n",
    "    \"\"\"Computes similarty matrix from feature sequences using dot (inner) product\n",
    "    Notebook: C4/C4S2_SSM.ipynb\n",
    "    \"\"\"    \n",
    "    S = np.dot(np.transpose(Y),X) \n",
    "#     S = np.matmul(np.transpose(Y), X)\n",
    "    return S"
   ]
  },
  {
   "cell_type": "code",
   "execution_count": 49,
   "metadata": {},
   "outputs": [
    {
     "data": {
      "text/plain": [
       "(291, 291)"
      ]
     },
     "execution_count": 49,
     "metadata": {},
     "output_type": "execute_result"
    }
   ],
   "source": [
    "phoneme_SSM = compute_SM_dot(fm, fm)\n",
    "phoneme_SSM.shape"
   ]
  },
  {
   "cell_type": "code",
   "execution_count": 54,
   "metadata": {},
   "outputs": [],
   "source": [
    "def plot_feature_SSM(SSM):\n",
    "    ax = sns.heatmap(SSM, vmin=0, vmax=1, cmap='BuPu')\n",
    "    ax.invert_yaxis()\n",
    "    sns.set(rc={'figure.figsize':(14,12)})"
   ]
  },
  {
   "cell_type": "code",
   "execution_count": 55,
   "metadata": {},
   "outputs": [
    {
     "data": {
      "image/png": "[encoded data removed]",
      "text/plain": [
       "<Figure size 1008x864 with 2 Axes>"
      ]
     },
     "metadata": {},
     "output_type": "display_data"
    }
   ],
   "source": [
    "plot_feature_SSM(phoneme_SSM)"
   ]
  },
  {
   "cell_type": "code",
   "execution_count": 56,
   "metadata": {},
   "outputs": [],
   "source": [
    "def get_valid_indices(SSM):\n",
    "    '''\n",
    "        Returns the indices of valid outputs from SSM and remove the nan indices\n",
    "    '''\n",
    "\n",
    "    rows, cols = np.triu_indices_from(SSM, k = 1)\n",
    "    nan_pair = np.argwhere(np.isnan(SSM))\n",
    "    set1 = set([(u ,v) for u, v in zip(rows, cols)])\n",
    "    set2 = set(list(map(tuple, nan_pair)))\n",
    "    \n",
    "    return set1 - set2"
   ]
  },
  {
   "cell_type": "code",
   "execution_count": 57,
   "metadata": {},
   "outputs": [],
   "source": [
    "def get_pair(SSM, valid_indices, sample_interval, hop_len):\n",
    "    '''\n",
    "        Returns the indices of the rhyming pair and non-rhyming pair on phonemes\n",
    "    '''\n",
    "    \n",
    "    rhyming_pair = set()\n",
    "    non_rhyming_pair = set()\n",
    "    \n",
    "    for u, v in valid_indices:\n",
    "        threshold = int(10 / (hop_len / 44100)) # 10 seconds as a threshold\n",
    "        indices_diff = abs(v - u) * sample_interval\n",
    "        if indices_diff < threshold:\n",
    "            if phoneme_SSM[u, v] == 1.0:\n",
    "                rhyming_pair.add((u, v))\n",
    "            else:\n",
    "                non_rhyming_pair.add((u, v))\n",
    "\n",
    "    return rhyming_pair, non_rhyming_pair"
   ]
  },
  {
   "cell_type": "code",
   "execution_count": 53,
   "metadata": {},
   "outputs": [
    {
     "ename": "NameError",
     "evalue": "name 'get_valid_indices' is not defined",
     "output_type": "error",
     "traceback": [
      "\u001b[0;31m---------------------------------------------------------------------------\u001b[0m",
      "\u001b[0;31mNameError\u001b[0m                                 Traceback (most recent call last)",
      "\u001b[0;32m<ipython-input-53-b9ea9241cb34>\u001b[0m in \u001b[0;36m<module>\u001b[0;34m\u001b[0m\n\u001b[0;32m----> 1\u001b[0;31m \u001b[0mvalid_indices\u001b[0m \u001b[0;34m=\u001b[0m \u001b[0mget_valid_indices\u001b[0m\u001b[0;34m(\u001b[0m\u001b[0mphoneme_SSM\u001b[0m\u001b[0;34m)\u001b[0m\u001b[0;34m\u001b[0m\u001b[0;34m\u001b[0m\u001b[0m\n\u001b[0m\u001b[1;32m      2\u001b[0m \u001b[0mrhyming_pair\u001b[0m\u001b[0;34m,\u001b[0m \u001b[0mnon_rhyming_pair\u001b[0m \u001b[0;34m=\u001b[0m \u001b[0mget_pair\u001b[0m\u001b[0;34m(\u001b[0m\u001b[0mphoneme_SSM\u001b[0m\u001b[0;34m,\u001b[0m \u001b[0mvalid_indices\u001b[0m\u001b[0;34m,\u001b[0m \u001b[0msample_interval\u001b[0m\u001b[0;34m,\u001b[0m \u001b[0mhop_len\u001b[0m\u001b[0;34m)\u001b[0m\u001b[0;34m\u001b[0m\u001b[0;34m\u001b[0m\u001b[0m\n",
      "\u001b[0;31mNameError\u001b[0m: name 'get_valid_indices' is not defined"
     ]
    }
   ],
   "source": [
    "valid_indices = get_valid_indices(phoneme_SSM)\n",
    "rhyming_pair, non_rhyming_pair = get_pair(phoneme_SSM, valid_indices, sample_interval, hop_len)"
   ]
  },
  {
   "cell_type": "code",
   "execution_count": 59,
   "metadata": {},
   "outputs": [],
   "source": [
    "# rhyming_pair"
   ]
  },
  {
   "cell_type": "code",
   "execution_count": 60,
   "metadata": {},
   "outputs": [],
   "source": [
    "# test on (1, 54)\n",
    "# aligned_phone_seq[1*5:26*5]\n",
    "# aligned_timestamp[1*5:26*5]"
   ]
  },
  {
   "cell_type": "code",
   "execution_count": 242,
   "metadata": {},
   "outputs": [],
   "source": [
    "def match_resolution(aligned_phone_seq, aligned_timestamp, sample_interval, i, j, hop_len):\n",
    "    '''\n",
    "        Match the resolution between sub part of phoneme SSM and mfcc SSM\n",
    "    '''\n",
    "    start_idx = i * sample_interval\n",
    "    end_idx = j * sample_interval\n",
    "\n",
    "    # get the part of aligned phoneme sequences and timestamps\n",
    "    phone_seq = aligned_phone_seq[start_idx:end_idx + 1]\n",
    "    timestamp_seq = aligned_timestamp[start_idx:end_idx + 1]\n",
    "    \n",
    "    start_time = timestamp_seq[0]\n",
    "    end_time = timestamp_seq[-1]\n",
    "    \n",
    "    resolution = hop_len / 44100\n",
    "    \n",
    "    n = min(len(phone_seq), len(timestamp_seq))\n",
    "    \n",
    "    sub_feature_matrix = None\n",
    "    \n",
    "    for k in range(n - 1):\n",
    "        p1 = phone_seq[k]\n",
    "        p2 = phone_seq[k + 1]\n",
    "        t1 = float(timestamp_seq[k])\n",
    "        t2 = float(timestamp_seq[k + 1])\n",
    "             \n",
    "        if sub_feature_matrix is None:\n",
    "            sub_feature_matrix = make_matched_fm(p1, p2, t1, t2, phone_classes, resolution)\n",
    "        else:\n",
    "            sub_feature_matrix = np.vstack((sub_feature_matrix, make_matched_fm(p1, p2, t1, t2, phone_classes, resolution)))\n",
    "            \n",
    "    return sub_feature_matrix.T"
   ]
  },
  {
   "cell_type": "code",
   "execution_count": 243,
   "metadata": {},
   "outputs": [],
   "source": [
    "def make_matched_fm(p1, p2, t1, t2, phone_classes, resolution):\n",
    "    v1 = get_phone_encoding(p1, phone_classes)\n",
    "    v2 = get_phone_encoding(p2, phone_classes)\n",
    "    \n",
    "    time_interval = round(t2 - t1, 2)\n",
    "    \n",
    "    \n",
    "    if time_interval < resolution:\n",
    "        fm = get_phone_encoding(p1, phone_classes)\n",
    "        return fm\n",
    "    \n",
    "    cols = math.floor(time_interval / resolution) + 1\n",
    "    size = len(phone_classes)\n",
    "    \n",
    "    f1 = get_phone_encoding(p1, phone_classes)\n",
    "    f2 = get_phone_encoding(p2, phone_classes)\n",
    "    \n",
    "    # initiate the interpolation matrix\n",
    "    interpolate_fm = np.zeros((size, cols))\n",
    "    \n",
    "    \n",
    "    interpolate_fm[:, 0] = f1\n",
    "#     interpolate_fm[:, cols-1] = f2\n",
    "    \n",
    "    if p1 == 'END':\n",
    "        for c in range(1, cols - 1):\n",
    "            interpolate_fm[:, c] = f1\n",
    "    \n",
    "    else:\n",
    "        x = np.array([0, cols - 1])\n",
    "        y = np.array([f1, f2])\n",
    "        y = y.T\n",
    "        # create interpolate function\n",
    "        func = sci.interpolate.interp1d(x, y, kind='nearest', axis=1)\n",
    "\n",
    "        for c in range(1, cols - 1):\n",
    "            interpolate_fm[:, c] = func(c)\n",
    "    \n",
    "    return interpolate_fm.T\n",
    "    "
   ]
  },
  {
   "cell_type": "code",
   "execution_count": 244,
   "metadata": {},
   "outputs": [
    {
     "name": "stdout",
     "output_type": "stream",
     "text": [
      "(15, 42)\n"
     ]
    }
   ],
   "source": [
    "res = make_matched_fm('K', 'AE', 17.55, 17.83, phone_classes, 0.02)\n",
    "print(res.shape)"
   ]
  },
  {
   "cell_type": "code",
   "execution_count": 245,
   "metadata": {},
   "outputs": [],
   "source": [
    "# aligned_phone_seq[1*5:26*5]\n",
    "# aligned_timestamp[1*5:26*5]\n",
    "test_sub_ssm = match_resolution(aligned_phone_seq, aligned_timestamp, sample_interval, 1, 26, hop_len)"
   ]
  },
  {
   "cell_type": "code",
   "execution_count": 246,
   "metadata": {},
   "outputs": [
    {
     "data": {
      "text/plain": [
       "(42, 456)"
      ]
     },
     "execution_count": 246,
     "metadata": {},
     "output_type": "execute_result"
    }
   ],
   "source": [
    "test_sub_ssm.shape"
   ]
  },
  {
   "cell_type": "code",
   "execution_count": 236,
   "metadata": {},
   "outputs": [],
   "source": [
    "# compute audio features"
   ]
  },
  {
   "cell_type": "code",
   "execution_count": 209,
   "metadata": {},
   "outputs": [],
   "source": [
    "def compute_mfcc(path, sr):\n",
    "    '''\n",
    "        Returns the mfcc feature for the given audio\n",
    "    '''\n",
    "    # read audio signal\n",
    "    y, sr = librosa.load(path, sr=sr)\n",
    "\n",
    "    # compute the mfcc and get the duration\n",
    "    mfcc = librosa.feature.mfcc(y, sr=sr, n_mfcc=14, n_fft=2048, hop_length=1024)\n",
    "    duration = librosa.core.get_duration(y=y, sr=sr, n_fft=2048, hop_length=1024)\n",
    "    \n",
    "    return mfcc, duration"
   ]
  },
  {
   "cell_type": "code",
   "execution_count": 237,
   "metadata": {},
   "outputs": [],
   "source": [
    "audio_path = 'data/vocals/Criminal/sponsor/vocals.wav'\n",
    "mfcc_feature, duration = compute_mfcc(audio_path, 44100)"
   ]
  },
  {
   "cell_type": "code",
   "execution_count": 241,
   "metadata": {},
   "outputs": [
    {
     "data": {
      "text/plain": [
       "(14, 10157)"
      ]
     },
     "execution_count": 241,
     "metadata": {},
     "output_type": "execute_result"
    }
   ],
   "source": [
    "mfcc_feature.shape"
   ]
  },
  {
   "cell_type": "code",
   "execution_count": 243,
   "metadata": {},
   "outputs": [],
   "source": [
    "aligned_phone_seq = np.append(aligned_phone_seq, 'END')\n",
    "aligned_timestamp = np.append(aligned_timestamp, duration)"
   ]
  },
  {
   "cell_type": "code",
   "execution_count": 240,
   "metadata": {},
   "outputs": [
    {
     "name": "stdout",
     "output_type": "stream",
     "text": [
      "722 1499 778\n"
     ]
    }
   ],
   "source": [
    "idx1 = 1\n",
    "idx2 = 26\n",
    "t1 = float(aligned_timestamp[idx1 * sample_interval])\n",
    "t2 = float(aligned_timestamp[idx2 * sample_interval])\n",
    "resolution = hop_len / 44100\n",
    "start_frame = math.floor(t1 / resolution)\n",
    "end_frame = math.floor(t2 / resolution)\n",
    "frame_num = end_frame - start_frame + 1\n",
    "print(start_frame, end_frame, frame_num)"
   ]
  },
  {
   "cell_type": "code",
   "execution_count": null,
   "metadata": {},
   "outputs": [],
   "source": []
  },
  {
   "cell_type": "code",
   "execution_count": 241,
   "metadata": {},
   "outputs": [
    {
     "data": {
      "text/plain": [
       "(902, 14)"
      ]
     },
     "execution_count": 241,
     "metadata": {},
     "output_type": "execute_result"
    }
   ],
   "source": [
    "sub_mfcc = sub_mfcc.T\n",
    "sub_mfcc.shape"
   ]
  },
  {
   "cell_type": "code",
   "execution_count": 84,
   "metadata": {},
   "outputs": [
    {
     "data": {
      "text/plain": [
       "(778, 778)"
      ]
     },
     "execution_count": 84,
     "metadata": {},
     "output_type": "execute_result"
    }
   ],
   "source": [
    "mfcc_ssm = metrics.pairwise.rbf_kernel(sub_mfcc)\n",
    "mfcc_ssm.shape"
   ]
  },
  {
   "cell_type": "code",
   "execution_count": 85,
   "metadata": {},
   "outputs": [],
   "source": [
    "def plot_mfcc_SSM(mfcc):\n",
    "    '''\n",
    "        Plot the mfcc SSM\n",
    "    '''\n",
    "    ax = sns.heatmap(mfcc, cmap='PiYG')\n",
    "    ax.invert_yaxis()\n",
    "    sns.set(rc={'figure.figsize':(14,12)})"
   ]
  },
  {
   "cell_type": "code",
   "execution_count": 86,
   "metadata": {},
   "outputs": [
    {
     "data": {
      "text/plain": [
       "array([[1.00000000e+000, 1.57361163e-009, 9.45035486e-084, ...,\n",
       "        0.00000000e+000, 0.00000000e+000, 0.00000000e+000],\n",
       "       [1.57361163e-009, 1.00000000e+000, 1.59533725e-112, ...,\n",
       "        0.00000000e+000, 0.00000000e+000, 0.00000000e+000],\n",
       "       [9.45035486e-084, 1.59533725e-112, 1.00000000e+000, ...,\n",
       "        0.00000000e+000, 0.00000000e+000, 0.00000000e+000],\n",
       "       ...,\n",
       "       [0.00000000e+000, 0.00000000e+000, 0.00000000e+000, ...,\n",
       "        1.00000000e+000, 1.29356552e-168, 2.46879511e-214],\n",
       "       [0.00000000e+000, 0.00000000e+000, 0.00000000e+000, ...,\n",
       "        1.29356552e-168, 1.00000000e+000, 2.48931934e-062],\n",
       "       [0.00000000e+000, 0.00000000e+000, 0.00000000e+000, ...,\n",
       "        2.46879511e-214, 2.48931934e-062, 1.00000000e+000]])"
      ]
     },
     "execution_count": 86,
     "metadata": {},
     "output_type": "execute_result"
    }
   ],
   "source": [
    "mfcc_ssm"
   ]
  },
  {
   "cell_type": "code",
   "execution_count": 87,
   "metadata": {},
   "outputs": [
    {
     "data": {
      "image/png": "[encoded data removed]",
      "text/plain": [
       "<Figure size 1008x864 with 2 Axes>"
      ]
     },
     "metadata": {},
     "output_type": "display_data"
    }
   ],
   "source": [
    "plot_mfcc_SSM(mfcc_ssm)"
   ]
  },
  {
   "cell_type": "code",
   "execution_count": 370,
   "metadata": {},
   "outputs": [],
   "source": [
    "# find the corresponding indices given certain conditions"
   ]
  },
  {
   "cell_type": "code",
   "execution_count": 384,
   "metadata": {},
   "outputs": [],
   "source": [
    "# interpolate\n",
    "# 拿[('167.70', '171.50'), (81, 84)] experiment一下\n",
    "# 找到fm对应的feature vector, 找到时间点对应的mfcc sub matrix\n",
    "# match fm与mfcc_feature的resolution (看要interpolate多少列)\n",
    "# match好后，再开始重新算ssm, 来求forbenius cofficients"
   ]
  },
  {
   "cell_type": "code",
   "execution_count": 172,
   "metadata": {},
   "outputs": [
    {
     "data": {
      "text/plain": [
       "(993, 993)"
      ]
     },
     "execution_count": 172,
     "metadata": {},
     "output_type": "execute_result"
    }
   ],
   "source": [
    "L1 = [18.34, 20.23, 22.34, 24.22, 26.33, 28.1, 30.23, 32.1, 33.2, 34.5, 35.3, 36.2, 38.2]\n",
    "interval = L1[-1] - L1[0]\n",
    "frames = round(interval / 0.02)\n",
    "\n",
    "count = 0\n",
    "for i in range(len(L1) - 1):\n",
    "    num = round((L1[i + 1] - L1[i]) / 0.02) \n",
    "    count += num\n",
    "    \n",
    "frames, count"
   ]
  },
  {
   "cell_type": "code",
   "execution_count": null,
   "metadata": {},
   "outputs": [],
   "source": []
  }
 ],
 "metadata": {
  "kernelspec": {
   "display_name": "Python 3",
   "language": "python",
   "name": "python3"
  },
  "language_info": {
   "codemirror_mode": {
    "name": "ipython",
    "version": 3
   },
   "file_extension": ".py",
   "mimetype": "text/x-python",
   "name": "python",
   "nbconvert_exporter": "python",
   "pygments_lexer": "ipython3",
   "version": "3.7.1"
  }
 },
 "nbformat": 4,
 "nbformat_minor": 2
}
